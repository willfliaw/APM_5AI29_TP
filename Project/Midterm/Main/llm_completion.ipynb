{
 "cells": [
  {
   "metadata": {
    "ExecuteTime": {
     "end_time": "2025-01-04T13:47:54.658854Z",
     "start_time": "2025-01-04T13:47:41.406461Z"
    }
   },
   "cell_type": "code",
   "source": [
    "# Respect the import order, otherwise there will be conflicts\n",
    "import torch\n",
    "from transformers import AutoModelForCausalLM, AutoTokenizer, BitsAndBytesConfig\n",
    "from torch.optim import Adam, AdamW\n",
    "from pykeen.pipeline import pipeline\n",
    "from pykeen.triples import TriplesFactory\n",
    "from huggingface_hub import login\n",
    "from transformers import AutoModelForCausalLM, AutoTokenizer, BitsAndBytesConfig\n",
    "import tqdm\n",
    "\n",
    "# Read the token from the file\n",
    "with open(\"huggingface_token.txt\", \"r\") as f:\n",
    "    token = f.read().strip()\n",
    "\n",
    "# Authenticate with the token\n",
    "login(token)\n",
    "\n",
    "model_name = \"meta-llama/Llama-3.2-3B\"\n",
    "quant_config = BitsAndBytesConfig(\n",
    "    load_in_4bit=True,\n",
    "    bnb_4bit_compute_dtype=torch.float16\n",
    ")\n",
    "tokenizer = AutoTokenizer.from_pretrained(model_name, token=token)\n",
    "\n",
    "\n",
    "# Load the model in 4-bit quantized form for efficiency\n",
    "model = AutoModelForCausalLM.from_pretrained(\n",
    "    model_name,\n",
    "    device_map=\"auto\",\n",
    "    quantization_config=quant_config,\n",
    "    torch_dtype=torch.float16\n",
    ")"
   ],
   "id": "3e8a4391377a486b",
   "outputs": [
    {
     "name": "stderr",
     "output_type": "stream",
     "text": [
      "2025-01-04 14:47:45.984542: I tensorflow/core/util/port.cc:153] oneDNN custom operations are on. You may see slightly different numerical results due to floating-point round-off errors from different computation orders. To turn them off, set the environment variable `TF_ENABLE_ONEDNN_OPTS=0`.\n",
      "2025-01-04 14:47:45.993927: E external/local_xla/xla/stream_executor/cuda/cuda_fft.cc:477] Unable to register cuFFT factory: Attempting to register factory for plugin cuFFT when one has already been registered\n",
      "WARNING: All log messages before absl::InitializeLog() is called are written to STDERR\n",
      "E0000 00:00:1735998466.003202  343877 cuda_dnn.cc:8310] Unable to register cuDNN factory: Attempting to register factory for plugin cuDNN when one has already been registered\n",
      "E0000 00:00:1735998466.005612  343877 cuda_blas.cc:1418] Unable to register cuBLAS factory: Attempting to register factory for plugin cuBLAS when one has already been registered\n",
      "2025-01-04 14:47:46.015203: I tensorflow/core/platform/cpu_feature_guard.cc:210] This TensorFlow binary is optimized to use available CPU instructions in performance-critical operations.\n",
      "To enable the following instructions: AVX2 AVX_VNNI FMA, in other operations, rebuild TensorFlow with the appropriate compiler flags.\n"
     ]
    },
    {
     "data": {
      "text/plain": [
       "Loading checkpoint shards:   0%|          | 0/2 [00:00<?, ?it/s]"
      ],
      "application/vnd.jupyter.widget-view+json": {
       "version_major": 2,
       "version_minor": 0,
       "model_id": "b366e1468fe644debf7a7c79b088596f"
      }
     },
     "metadata": {},
     "output_type": "display_data"
    }
   ],
   "execution_count": 1
  },
  {
   "metadata": {
    "ExecuteTime": {
     "end_time": "2025-01-04T13:48:05.491601Z",
     "start_time": "2025-01-04T13:47:54.668618Z"
    }
   },
   "cell_type": "code",
   "source": [
    "# Example query with better generation parameters\n",
    "prompt = \"Quantum Mechanics is a topic inside Physics which deals with\"\n",
    "inputs = tokenizer(prompt, return_tensors=\"pt\").to(\"cuda\")\n",
    "\n",
    "outputs = model.generate(\n",
    "    **inputs,\n",
    "    max_new_tokens=100,\n",
    "    pad_token_id=tokenizer.eos_token_id,\n",
    "    do_sample=True,\n",
    "    temperature=0.7,\n",
    "    top_p=0.9,\n",
    ")\n",
    "\n",
    "# Decode and print the response\n",
    "print(tokenizer.decode(outputs[0], skip_special_tokens=True))"
   ],
   "id": "cdcbd8e3c7fabcaa",
   "outputs": [
    {
     "name": "stdout",
     "output_type": "stream",
     "text": [
      "Quantum Mechanics is a topic inside Physics which deals with the behavior of matter and energy on a quantum scale. The theory is based on the assumption that the smallest particles of matter (atoms and subatomic particles) are governed by quantum mechanical principles. The term Quantum Mechanics was coined by the German physicist, Max Planck, in 1900, who was trying to explain the mystery of black-body radiation.\n",
      "The idea behind Quantum Mechanics is that the behavior of atoms is not continuous, as was previously thought, but rather discrete. The discrete behavior is known as\n"
     ]
    }
   ],
   "execution_count": 2
  },
  {
   "metadata": {
    "ExecuteTime": {
     "end_time": "2025-01-04T13:48:18.867966Z",
     "start_time": "2025-01-04T13:48:06.490376Z"
    }
   },
   "cell_type": "code",
   "source": [
    "from pykeen.triples import TriplesFactory\n",
    "import pandas as pd\n",
    "from neo4j import GraphDatabase\n",
    "\n",
    "# Define Neo4j connections\n",
    "host = \"bolt://localhost:7687\"\n",
    "user = \"neo4j\"\n",
    "password = \"12345678\"\n",
    "driver = GraphDatabase.driver(host, auth=(user, password))\n",
    "\n",
    "def run_query(query, params={}):\n",
    "    with driver.session() as session:\n",
    "        result = session.run(query, params)\n",
    "        return pd.DataFrame([r.values() for r in result], columns=result.keys())\n",
    "    \n",
    "# Cell 2: Load your graph data\n",
    "data = run_query(\"\"\"\n",
    "    MATCH (s)-[r]->(t)\n",
    "    RETURN toString(s.name) as source, toString(t.name) AS target, type(r) as type\n",
    "\"\"\")\n",
    "tf = TriplesFactory.from_labeled_triples(\n",
    "    data[[\"source\", \"type\", \"target\"]].values, compact_id=False\n",
    ")\n",
    "\n",
    "\n",
    "training, testing, validation = tf.split([0.8, 0.1, 0.1])"
   ],
   "id": "245de215f35e4b4d",
   "outputs": [
    {
     "name": "stderr",
     "output_type": "stream",
     "text": [
      "using automatically assigned random_state=327585272\n"
     ]
    }
   ],
   "execution_count": 3
  },
  {
   "metadata": {
    "ExecuteTime": {
     "end_time": "2025-01-04T14:02:10.209028Z",
     "start_time": "2025-01-04T13:48:18.881524Z"
    }
   },
   "cell_type": "code",
   "source": [
    "# Baseline\n",
    "result = pipeline(\n",
    "    training=training,\n",
    "    testing=testing,\n",
    "    validation=validation,\n",
    "    model=\"RotatE\",\n",
    "    stopper=\"early\",\n",
    "    epochs=10,\n",
    "    dimensions=128,\n",
    "    random_seed=420,\n",
    ")\n",
    "result.plot_losses()"
   ],
   "id": "520997d798e0f3a9",
   "outputs": [
    {
     "data": {
      "text/plain": [
       "Training epochs on cuda:0:   0%|          | 0/10 [00:00<?, ?epoch/s]"
      ],
      "application/vnd.jupyter.widget-view+json": {
       "version_major": 2,
       "version_minor": 0,
       "model_id": "dc297a9757584265830055a673b590d7"
      }
     },
     "metadata": {},
     "output_type": "display_data"
    },
    {
     "data": {
      "text/plain": [
       "Training batches on cuda:0:   0%|          | 0/1756 [00:00<?, ?batch/s]"
      ],
      "application/vnd.jupyter.widget-view+json": {
       "version_major": 2,
       "version_minor": 0,
       "model_id": "c57006259b904fe9a52c23f0481ecc6e"
      }
     },
     "metadata": {},
     "output_type": "display_data"
    },
    {
     "data": {
      "text/plain": [
       "Training batches on cuda:0:   0%|          | 0/1756 [00:00<?, ?batch/s]"
      ],
      "application/vnd.jupyter.widget-view+json": {
       "version_major": 2,
       "version_minor": 0,
       "model_id": "17079131142c4e8d9f001745989576b2"
      }
     },
     "metadata": {},
     "output_type": "display_data"
    },
    {
     "data": {
      "text/plain": [
       "Training batches on cuda:0:   0%|          | 0/1756 [00:00<?, ?batch/s]"
      ],
      "application/vnd.jupyter.widget-view+json": {
       "version_major": 2,
       "version_minor": 0,
       "model_id": "8690e425cdf6484a864ec81db59ffa09"
      }
     },
     "metadata": {},
     "output_type": "display_data"
    },
    {
     "data": {
      "text/plain": [
       "Training batches on cuda:0:   0%|          | 0/1756 [00:00<?, ?batch/s]"
      ],
      "application/vnd.jupyter.widget-view+json": {
       "version_major": 2,
       "version_minor": 0,
       "model_id": "15183e571624443ba54104262858e3d6"
      }
     },
     "metadata": {},
     "output_type": "display_data"
    },
    {
     "data": {
      "text/plain": [
       "Training batches on cuda:0:   0%|          | 0/1756 [00:00<?, ?batch/s]"
      ],
      "application/vnd.jupyter.widget-view+json": {
       "version_major": 2,
       "version_minor": 0,
       "model_id": "17c61e0539924668a5055e4cb563aea4"
      }
     },
     "metadata": {},
     "output_type": "display_data"
    },
    {
     "data": {
      "text/plain": [
       "Training batches on cuda:0:   0%|          | 0/1756 [00:00<?, ?batch/s]"
      ],
      "application/vnd.jupyter.widget-view+json": {
       "version_major": 2,
       "version_minor": 0,
       "model_id": "da037dd989c549bc8f5db80a37b82b25"
      }
     },
     "metadata": {},
     "output_type": "display_data"
    },
    {
     "data": {
      "text/plain": [
       "Training batches on cuda:0:   0%|          | 0/1756 [00:00<?, ?batch/s]"
      ],
      "application/vnd.jupyter.widget-view+json": {
       "version_major": 2,
       "version_minor": 0,
       "model_id": "2759c1b30b714ecc98f7e71405955136"
      }
     },
     "metadata": {},
     "output_type": "display_data"
    },
    {
     "data": {
      "text/plain": [
       "Training batches on cuda:0:   0%|          | 0/1756 [00:00<?, ?batch/s]"
      ],
      "application/vnd.jupyter.widget-view+json": {
       "version_major": 2,
       "version_minor": 0,
       "model_id": "e1cbd650e6b94b24b21177daee916125"
      }
     },
     "metadata": {},
     "output_type": "display_data"
    },
    {
     "data": {
      "text/plain": [
       "Training batches on cuda:0:   0%|          | 0/1756 [00:00<?, ?batch/s]"
      ],
      "application/vnd.jupyter.widget-view+json": {
       "version_major": 2,
       "version_minor": 0,
       "model_id": "977f4b02e0ab48f7be3b0a9044f6c47a"
      }
     },
     "metadata": {},
     "output_type": "display_data"
    },
    {
     "data": {
      "text/plain": [
       "Training batches on cuda:0:   0%|          | 0/1756 [00:00<?, ?batch/s]"
      ],
      "application/vnd.jupyter.widget-view+json": {
       "version_major": 2,
       "version_minor": 0,
       "model_id": "b04503883ab84cda8bad82e25de34142"
      }
     },
     "metadata": {},
     "output_type": "display_data"
    },
    {
     "name": "stderr",
     "output_type": "stream",
     "text": [
      "INFO:pykeen.evaluation.evaluator:Evaluation took 240.02s seconds\n",
      "INFO:pykeen.stoppers.early_stopping:New best result at epoch 10: 0.08529160435804316. Saved model weights to /home/eddie/.data/pykeen/checkpoints/best-model-weights-5708ab85-a82f-472e-a1ed-3296b6beb130.pt\n",
      "INFO:pykeen.training.training_loop:=> Saved checkpoint after having finished epoch 10.\n"
     ]
    },
    {
     "data": {
      "text/plain": [
       "Evaluating on cuda:0:   0%|          | 0.00/56.2k [00:00<?, ?triple/s]"
      ],
      "application/vnd.jupyter.widget-view+json": {
       "version_major": 2,
       "version_minor": 0,
       "model_id": "24b05db4b77f4c8e8a9dbb14608b3fde"
      }
     },
     "metadata": {},
     "output_type": "display_data"
    },
    {
     "name": "stderr",
     "output_type": "stream",
     "text": [
      "INFO:pykeen.evaluation.evaluator:Evaluation took 195.80s seconds\n"
     ]
    },
    {
     "data": {
      "text/plain": [
       "<Axes: title={'center': 'Losses Plot'}, xlabel='Epoch', ylabel='marginranking Loss'>"
      ]
     },
     "execution_count": 4,
     "metadata": {},
     "output_type": "execute_result"
    },
    {
     "data": {
      "text/plain": [
       "<Figure size 640x480 with 1 Axes>"
      ],
      "image/png": "[encoded data removed]"
     },
     "metadata": {},
     "output_type": "display_data"
    }
   ],
   "execution_count": 4
  },
  {
   "metadata": {
    "ExecuteTime": {
     "end_time": "2025-01-04T14:25:37.048783Z",
     "start_time": "2025-01-04T14:12:58.967039Z"
    }
   },
   "cell_type": "code",
   "source": [
    "from pykeen.models import ERModel\n",
    "import torch\n",
    "from pykeen.nn.representation import Embedding\n",
    "from pykeen.nn.init import init_phases, xavier_uniform_\n",
    "from pykeen.nn.modules import FunctionalInteraction\n",
    "from pykeen.utils import negative_norm, ensure_complex\n",
    "\n",
    "class RotatEDummyEntityRepresentation(Embedding):\n",
    "    \"\"\"Entity representation that combines complex RotatE embeddings with dummy embeddings.\"\"\"\n",
    "\n",
    "    def __init__(\n",
    "        self,\n",
    "        num_entities: int,\n",
    "        embedding_dim: int,\n",
    "        dummy_dim: int,\n",
    "        initializer=xavier_uniform_,\n",
    "        **kwargs\n",
    "    ):\n",
    "        # Initialize complex embeddings for RotatE\n",
    "        super().__init__(\n",
    "            max_id=num_entities,\n",
    "            shape=embedding_dim,\n",
    "            initializer=initializer,\n",
    "            dtype=torch.cfloat,\n",
    "            **kwargs\n",
    "        )\n",
    "        \n",
    "        # Initialize additional dummy embeddings (real-valued)\n",
    "        self.dummy_embeddings = torch.nn.Embedding(num_entities, dummy_dim)\n",
    "        torch.nn.init.xavier_uniform_(self.dummy_embeddings.weight)\n",
    "\n",
    "    def _plain_forward(self, indices=None):\n",
    "        # Get complex RotatE embeddings\n",
    "        rotate_embeddings = super()._plain_forward(indices)\n",
    "        \n",
    "        if indices is None:\n",
    "            dummy_embeddings = self.dummy_embeddings.weight\n",
    "        else:\n",
    "            dummy_embeddings = self.dummy_embeddings(indices.to(self.device))\n",
    "            \n",
    "        return rotate_embeddings, dummy_embeddings\n",
    "\n",
    "class RotatEDummyInteraction(FunctionalInteraction):\n",
    "    \"\"\"Extended RotatE interaction that handles both complex and dummy embeddings.\"\"\"\n",
    "    \n",
    "    def forward(self, h, r, t):\n",
    "        # Unpack complex and dummy parts\n",
    "        h_complex, h_dummy = h\n",
    "        t_complex, t_dummy = t\n",
    "        r_complex, r_dummy = r\n",
    "        \n",
    "        # Regular RotatE score with complex embeddings\n",
    "        if h_complex.dim() == 3 and r_complex.dim() == 3 and t_complex.dim() == 3:\n",
    "            h_complex = h_complex.expand(r_complex.shape[0], -1, -1)\n",
    "            t_complex = t_complex.expand(r_complex.shape[0], -1, -1)\n",
    "            \n",
    "        # Compute RotatE interaction in complex space\n",
    "        rotated_h = h_complex * r_complex\n",
    "        rotate_score = negative_norm(rotated_h - t_complex, p=2, power_norm=False)\n",
    "        \n",
    "        # Handle dummy embeddings with simple multiplication\n",
    "        if h_dummy.dim() == 3 and r_dummy.dim() == 3 and t_dummy.dim() == 3:\n",
    "            h_dummy = h_dummy.expand(r_dummy.shape[0], -1, -1)\n",
    "            t_dummy = t_dummy.expand(r_dummy.shape[0], -1, -1)\n",
    "            \n",
    "        dummy_score = (h_dummy * r_dummy * t_dummy).sum(dim=-1)\n",
    "        \n",
    "        # Combine scores\n",
    "        return rotate_score + dummy_score\n",
    "\n",
    "class RotatEWithDummy(ERModel):\n",
    "    \"\"\"RotatE model extended with dummy embeddings.\"\"\"\n",
    "    \n",
    "    def __init__(\n",
    "        self,\n",
    "        num_entities: int,\n",
    "        num_relations: int,\n",
    "        embedding_dim: int = 200,\n",
    "        dummy_dim: int = 50,\n",
    "        entity_initializer=xavier_uniform_,\n",
    "        relation_initializer=init_phases,\n",
    "        **kwargs\n",
    "    ):\n",
    "        # Initialize entity representations (both complex and dummy)\n",
    "        entity_representations = RotatEDummyEntityRepresentation(\n",
    "            num_entities=num_entities,\n",
    "            embedding_dim=embedding_dim,\n",
    "            dummy_dim=dummy_dim,\n",
    "            initializer=entity_initializer\n",
    "        )\n",
    "        \n",
    "        # Initialize relation representations (both complex and dummy)\n",
    "        relation_representations = RotatEDummyEntityRepresentation(\n",
    "            num_entities=num_relations,\n",
    "            embedding_dim=embedding_dim,\n",
    "            dummy_dim=dummy_dim,\n",
    "            initializer=relation_initializer\n",
    "        )\n",
    "        \n",
    "        # Initialize the model with custom interaction\n",
    "        super().__init__(\n",
    "            entity_representations=entity_representations,\n",
    "            relation_representations=relation_representations,\n",
    "            interaction=RotatEDummyInteraction,\n",
    "            **kwargs\n",
    "        )\n",
    "\n",
    "# Pipeline usage\n",
    "result = pipeline(\n",
    "    training=training,\n",
    "    testing=testing,\n",
    "    validation=validation,\n",
    "    model=RotatEWithDummy,\n",
    "    model_kwargs={\n",
    "        'num_entities': tf.num_entities,\n",
    "        'num_relations': tf.num_relations,\n",
    "        'embedding_dim': 128,  # Complex embedding dimension\n",
    "        'dummy_dim': 32,      # Dummy embedding dimension\n",
    "    },\n",
    "    optimizer='adam',\n",
    "    stopper='early',\n",
    "    epochs=10,\n",
    "    random_seed=42,\n",
    ")\n",
    "result.plot_losses()"
   ],
   "id": "39610dfcc8d0191b",
   "outputs": [
    {
     "name": "stderr",
     "output_type": "stream",
     "text": [
      "INFO:pykeen.pipeline.api:Using device: None\n",
      "INFO:pykeen.stoppers.early_stopping:Inferred checkpoint path for best model weights: /home/eddie/.data/pykeen/checkpoints/best-model-weights-fddf306e-9391-40d8-b0f6-642b7a68340c.pt\n"
     ]
    },
    {
     "data": {
      "text/plain": [
       "Training epochs on cuda:0:   0%|          | 0/10 [00:00<?, ?epoch/s]"
      ],
      "application/vnd.jupyter.widget-view+json": {
       "version_major": 2,
       "version_minor": 0,
       "model_id": "f55634fc321548cd8687c91796ab3675"
      }
     },
     "metadata": {},
     "output_type": "display_data"
    },
    {
     "data": {
      "text/plain": [
       "Training batches on cuda:0:   0%|          | 0/1756 [00:00<?, ?batch/s]"
      ],
      "application/vnd.jupyter.widget-view+json": {
       "version_major": 2,
       "version_minor": 0,
       "model_id": "25ca8e76319541e98d8bc75331d0b198"
      }
     },
     "metadata": {},
     "output_type": "display_data"
    },
    {
     "data": {
      "text/plain": [
       "Training batches on cuda:0:   0%|          | 0/1756 [00:00<?, ?batch/s]"
      ],
      "application/vnd.jupyter.widget-view+json": {
       "version_major": 2,
       "version_minor": 0,
       "model_id": "6572e3ceaaff41028a772bbc73e898c9"
      }
     },
     "metadata": {},
     "output_type": "display_data"
    },
    {
     "data": {
      "text/plain": [
       "Training batches on cuda:0:   0%|          | 0/1756 [00:00<?, ?batch/s]"
      ],
      "application/vnd.jupyter.widget-view+json": {
       "version_major": 2,
       "version_minor": 0,
       "model_id": "dbf4a2f0fba645219c6d0709c21850f0"
      }
     },
     "metadata": {},
     "output_type": "display_data"
    },
    {
     "data": {
      "text/plain": [
       "Training batches on cuda:0:   0%|          | 0/1756 [00:00<?, ?batch/s]"
      ],
      "application/vnd.jupyter.widget-view+json": {
       "version_major": 2,
       "version_minor": 0,
       "model_id": "234c8c39dea64e79b492c1c68660afb4"
      }
     },
     "metadata": {},
     "output_type": "display_data"
    },
    {
     "data": {
      "text/plain": [
       "Training batches on cuda:0:   0%|          | 0/1756 [00:00<?, ?batch/s]"
      ],
      "application/vnd.jupyter.widget-view+json": {
       "version_major": 2,
       "version_minor": 0,
       "model_id": "f05160e937ca4b27891c6e6a5175d38e"
      }
     },
     "metadata": {},
     "output_type": "display_data"
    },
    {
     "data": {
      "text/plain": [
       "Training batches on cuda:0:   0%|          | 0/1756 [00:00<?, ?batch/s]"
      ],
      "application/vnd.jupyter.widget-view+json": {
       "version_major": 2,
       "version_minor": 0,
       "model_id": "d00ffc66e9534391a9909472956aaa4f"
      }
     },
     "metadata": {},
     "output_type": "display_data"
    },
    {
     "data": {
      "text/plain": [
       "Training batches on cuda:0:   0%|          | 0/1756 [00:00<?, ?batch/s]"
      ],
      "application/vnd.jupyter.widget-view+json": {
       "version_major": 2,
       "version_minor": 0,
       "model_id": "594f23493ae34d40adf41d9b12d1a0ea"
      }
     },
     "metadata": {},
     "output_type": "display_data"
    },
    {
     "data": {
      "text/plain": [
       "Training batches on cuda:0:   0%|          | 0/1756 [00:00<?, ?batch/s]"
      ],
      "application/vnd.jupyter.widget-view+json": {
       "version_major": 2,
       "version_minor": 0,
       "model_id": "70ab898b9c354026a882f2f327ec7f84"
      }
     },
     "metadata": {},
     "output_type": "display_data"
    },
    {
     "data": {
      "text/plain": [
       "Training batches on cuda:0:   0%|          | 0/1756 [00:00<?, ?batch/s]"
      ],
      "application/vnd.jupyter.widget-view+json": {
       "version_major": 2,
       "version_minor": 0,
       "model_id": "27c20b35477a400e8272c2e13040d717"
      }
     },
     "metadata": {},
     "output_type": "display_data"
    },
    {
     "data": {
      "text/plain": [
       "Training batches on cuda:0:   0%|          | 0/1756 [00:00<?, ?batch/s]"
      ],
      "application/vnd.jupyter.widget-view+json": {
       "version_major": 2,
       "version_minor": 0,
       "model_id": "5f3565ca5d4e48709973a6b6d6a01405"
      }
     },
     "metadata": {},
     "output_type": "display_data"
    },
    {
     "name": "stderr",
     "output_type": "stream",
     "text": [
      "INFO:pykeen.evaluation.evaluator:Evaluation took 266.68s seconds\n",
      "INFO:pykeen.stoppers.early_stopping:New best result at epoch 10: 0.06229972228156377. Saved model weights to /home/eddie/.data/pykeen/checkpoints/best-model-weights-fddf306e-9391-40d8-b0f6-642b7a68340c.pt\n",
      "INFO:pykeen.training.training_loop:=> Saved checkpoint after having finished epoch 10.\n"
     ]
    },
    {
     "data": {
      "text/plain": [
       "Evaluating on cuda:0:   0%|          | 0.00/56.2k [00:00<?, ?triple/s]"
      ],
      "application/vnd.jupyter.widget-view+json": {
       "version_major": 2,
       "version_minor": 0,
       "model_id": "55058ac5bac54009b3ae529a0ccc07f8"
      }
     },
     "metadata": {},
     "output_type": "display_data"
    },
    {
     "name": "stderr",
     "output_type": "stream",
     "text": [
      "INFO:pykeen.evaluation.evaluator:Evaluation took 230.90s seconds\n"
     ]
    }
   ],
   "execution_count": 9
  },
  {
   "metadata": {
    "ExecuteTime": {
     "end_time": "2025-01-04T14:07:25.774020Z",
     "start_time": "2025-01-04T14:02:10.273367Z"
    }
   },
   "cell_type": "code",
   "source": [
    "import torch\n",
    "from pykeen.models import ERModel\n",
    "from pykeen.nn import Embedding\n",
    "from pykeen.pipeline import pipeline\n",
    "from pykeen.datasets import Nations\n",
    "from pykeen.nn import Interaction\n",
    "\n",
    "\n",
    "class DummyEntityRepresentation(Embedding):\n",
    "    \"\"\"Custom entity representation that concatenates dummy embeddings.\"\"\"\n",
    "\n",
    "    def __init__(self, num_entities, embedding_dim, dummy_dim, **kwargs):\n",
    "        # Initialize regular embeddings for entities\n",
    "        super().__init__(max_id=num_entities, embedding_dim=embedding_dim, **kwargs)\n",
    "\n",
    "        # Initialize dummy embeddings for entities\n",
    "        self.dummy_embeddings = torch.nn.Embedding(num_entities, dummy_dim)\n",
    "        torch.nn.init.xavier_uniform_(self.dummy_embeddings.weight)\n",
    "\n",
    "    def _plain_forward(self, indices=None):\n",
    "        \"\"\"\n",
    "        Get regular and dummy embeddings for the given indices.\n",
    "\n",
    "        Handles the case where indices are None, meaning all embeddings are returned.\n",
    "        \"\"\"\n",
    "        # Get regular embeddings using the super class's _plain_forward method\n",
    "        regular_embeddings = super()._plain_forward(indices)\n",
    "\n",
    "        if indices is None:\n",
    "            # Return all dummy embeddings when indices are None\n",
    "            dummy_embeddings = self.dummy_embeddings.weight\n",
    "        else:\n",
    "            # Lookup specific dummy embeddings\n",
    "            dummy_embeddings = self.dummy_embeddings(indices.to(self.device))\n",
    "        \n",
    "        # Concatenate regular and dummy embeddings along the last dimension\n",
    "        return torch.cat([regular_embeddings, dummy_embeddings], dim=-1)\n",
    "\n",
    "class DummyEmbeddingInteraction(Interaction):\n",
    "    def forward(self, h, r, t):\n",
    "        \n",
    "        # Adjust for evaluation\n",
    "        if h.dim() == 3 and r.dim() == 3 and t.dim() == 3:\n",
    "            # Broadcasting adjustments:\n",
    "            # Expand h to match the first dimension of r (batch size or total triples)\n",
    "            h = h.expand(r.shape[0], -1, -1)\n",
    "            # Expand t similarly to match r\n",
    "            t = t.expand(r.shape[0], -1, -1)\n",
    "        \n",
    "        # Ensure embedding dimensions match\n",
    "        if h.size(-1) != r.size(-1) or t.size(-1) != r.size(-1):\n",
    "            raise ValueError(f\"Mismatch in embedding dimensions: \"\n",
    "                             f\"h={h.size(-1)}, r={r.size(-1)}, t={t.size(-1)}\")\n",
    "        \n",
    "        # Compute scores\n",
    "        return (h * r * t).sum(dim=-1)\n",
    "\n",
    "class DummyEmbeddingModel(ERModel):\n",
    "    \"\"\"Custom model that integrates dummy embeddings into the entity representations.\"\"\"\n",
    "    \n",
    "    def __init__(self, num_entities, num_relations, embedding_dim=50, dummy_dim=50, **kwargs):\n",
    "        # Initialize the custom entity representation\n",
    "        entity_representations = DummyEntityRepresentation(\n",
    "            num_entities=num_entities,\n",
    "            embedding_dim=embedding_dim,\n",
    "            dummy_dim=dummy_dim\n",
    "        )\n",
    "        \n",
    "        # Define the custom interaction function\n",
    "        interaction = DummyEmbeddingInteraction()\n",
    "        \n",
    "        # Pass everything to the parent ERModel\n",
    "        super().__init__(\n",
    "            entity_representations=entity_representations,\n",
    "            relation_representations=Embedding,\n",
    "            relation_representations_kwargs=dict(embedding_dim=embedding_dim + dummy_dim),  # Adjust relation embedding size\n",
    "            interaction=interaction,\n",
    "            **kwargs\n",
    "        )\n",
    "\n",
    "\n",
    "result = pipeline(\n",
    "    training=training,\n",
    "    testing=testing,\n",
    "    validation=validation,\n",
    "    model=DummyEmbeddingModel,\n",
    "    model_kwargs={\n",
    "        'num_entities': tf.num_entities,\n",
    "        'num_relations': tf.num_relations,\n",
    "        'embedding_dim': 128,  # Regular embedding size\n",
    "        'dummy_dim': 32,  # Dummy embedding size\n",
    "    },\n",
    "    optimizer='adam',\n",
    "    stopper='early',\n",
    "    epochs=10,\n",
    "    random_seed=42,\n",
    ")\n",
    "result.plot_losses()"
   ],
   "id": "26b2fc473889a9ea",
   "outputs": [
    {
     "name": "stderr",
     "output_type": "stream",
     "text": [
      "INFO:pykeen.pipeline.api:Using device: None\n",
      "INFO:pykeen.stoppers.early_stopping:Inferred checkpoint path for best model weights: /home/eddie/.data/pykeen/checkpoints/best-model-weights-87c65e05-dd02-4d35-9797-50166f6a1288.pt\n"
     ]
    },
    {
     "data": {
      "text/plain": [
       "Training epochs on cuda:0:   0%|          | 0/10 [00:00<?, ?epoch/s]"
      ],
      "application/vnd.jupyter.widget-view+json": {
       "version_major": 2,
       "version_minor": 0,
       "model_id": "52a379b0cfa84760845e0754aac6496f"
      }
     },
     "metadata": {},
     "output_type": "display_data"
    },
    {
     "data": {
      "text/plain": [
       "Training batches on cuda:0:   0%|          | 0/1756 [00:00<?, ?batch/s]"
      ],
      "application/vnd.jupyter.widget-view+json": {
       "version_major": 2,
       "version_minor": 0,
       "model_id": "14caab66238e44dc96aec596da98aa68"
      }
     },
     "metadata": {},
     "output_type": "display_data"
    },
    {
     "data": {
      "text/plain": [
       "Training batches on cuda:0:   0%|          | 0/1756 [00:00<?, ?batch/s]"
      ],
      "application/vnd.jupyter.widget-view+json": {
       "version_major": 2,
       "version_minor": 0,
       "model_id": "d29d39f3505d4546bddfff603b370339"
      }
     },
     "metadata": {},
     "output_type": "display_data"
    },
    {
     "data": {
      "text/plain": [
       "Training batches on cuda:0:   0%|          | 0/1756 [00:00<?, ?batch/s]"
      ],
      "application/vnd.jupyter.widget-view+json": {
       "version_major": 2,
       "version_minor": 0,
       "model_id": "f7009ded013947e985f7a26191c6621d"
      }
     },
     "metadata": {},
     "output_type": "display_data"
    },
    {
     "data": {
      "text/plain": [
       "Training batches on cuda:0:   0%|          | 0/1756 [00:00<?, ?batch/s]"
      ],
      "application/vnd.jupyter.widget-view+json": {
       "version_major": 2,
       "version_minor": 0,
       "model_id": "45f23b84ccfe48e8a5a0c521044ae5ec"
      }
     },
     "metadata": {},
     "output_type": "display_data"
    },
    {
     "data": {
      "text/plain": [
       "Training batches on cuda:0:   0%|          | 0/1756 [00:00<?, ?batch/s]"
      ],
      "application/vnd.jupyter.widget-view+json": {
       "version_major": 2,
       "version_minor": 0,
       "model_id": "ad3555e5b0d54698bf4e28b93b8a36da"
      }
     },
     "metadata": {},
     "output_type": "display_data"
    },
    {
     "data": {
      "text/plain": [
       "Training batches on cuda:0:   0%|          | 0/1756 [00:00<?, ?batch/s]"
      ],
      "application/vnd.jupyter.widget-view+json": {
       "version_major": 2,
       "version_minor": 0,
       "model_id": "2ca39a7d6edb452e8c0fabf43720f272"
      }
     },
     "metadata": {},
     "output_type": "display_data"
    },
    {
     "data": {
      "text/plain": [
       "Training batches on cuda:0:   0%|          | 0/1756 [00:00<?, ?batch/s]"
      ],
      "application/vnd.jupyter.widget-view+json": {
       "version_major": 2,
       "version_minor": 0,
       "model_id": "ebaef6639d0f4e939e487b74e4518610"
      }
     },
     "metadata": {},
     "output_type": "display_data"
    },
    {
     "data": {
      "text/plain": [
       "Training batches on cuda:0:   0%|          | 0/1756 [00:00<?, ?batch/s]"
      ],
      "application/vnd.jupyter.widget-view+json": {
       "version_major": 2,
       "version_minor": 0,
       "model_id": "140f34f4ce104293aaa506a9706d86b9"
      }
     },
     "metadata": {},
     "output_type": "display_data"
    },
    {
     "data": {
      "text/plain": [
       "Training batches on cuda:0:   0%|          | 0/1756 [00:00<?, ?batch/s]"
      ],
      "application/vnd.jupyter.widget-view+json": {
       "version_major": 2,
       "version_minor": 0,
       "model_id": "3efbc26b23cd4d70bc389db2b9b12184"
      }
     },
     "metadata": {},
     "output_type": "display_data"
    },
    {
     "data": {
      "text/plain": [
       "Training batches on cuda:0:   0%|          | 0/1756 [00:00<?, ?batch/s]"
      ],
      "application/vnd.jupyter.widget-view+json": {
       "version_major": 2,
       "version_minor": 0,
       "model_id": "c92e795cae844f3186f262ad460c9273"
      }
     },
     "metadata": {},
     "output_type": "display_data"
    },
    {
     "name": "stderr",
     "output_type": "stream",
     "text": [
      "INFO:pykeen.evaluation.evaluator:Evaluation took 91.71s seconds\n",
      "INFO:pykeen.stoppers.early_stopping:New best result at epoch 10: 0.0019226660969878231. Saved model weights to /home/eddie/.data/pykeen/checkpoints/best-model-weights-87c65e05-dd02-4d35-9797-50166f6a1288.pt\n",
      "INFO:pykeen.training.training_loop:=> Saved checkpoint after having finished epoch 10.\n"
     ]
    },
    {
     "data": {
      "text/plain": [
       "Evaluating on cuda:0:   0%|          | 0.00/56.2k [00:00<?, ?triple/s]"
      ],
      "application/vnd.jupyter.widget-view+json": {
       "version_major": 2,
       "version_minor": 0,
       "model_id": "7bdf352771474752841b6d1b36b0c184"
      }
     },
     "metadata": {},
     "output_type": "display_data"
    },
    {
     "name": "stderr",
     "output_type": "stream",
     "text": [
      "INFO:pykeen.evaluation.evaluator:Evaluation took 97.25s seconds\n"
     ]
    },
    {
     "data": {
      "text/plain": [
       "<Axes: title={'center': 'Losses Plot'}, xlabel='Epoch', ylabel='marginranking Loss'>"
      ]
     },
     "execution_count": 5,
     "metadata": {},
     "output_type": "execute_result"
    },
    {
     "data": {
      "text/plain": [
       "<Figure size 640x480 with 1 Axes>"
      ],
      "image/png": "[encoded data removed]"
     },
     "metadata": {},
     "output_type": "display_data"
    }
   ],
   "execution_count": 5
  },
  {
   "metadata": {
    "ExecuteTime": {
     "end_time": "2025-01-04T14:07:26.001877Z",
     "start_time": "2025-01-04T14:07:25.806618Z"
    }
   },
   "cell_type": "code",
   "source": [
    "\n",
    "import numpy as np\n",
    "\n",
    "# Function to retrieve and process external context\n",
    "def get_rag_embedding(entity_name):\n",
    "    \"\"\"\n",
    "    Retrieve and encode Wikidata context for an entity.\n",
    "    \"\"\"\n",
    "    # Retrieve Wikidata context\n",
    "    if check_wikidata_entry(entity_name, print_results=False):\n",
    "        # Example text (replace with actual retrieved Wikidata info)\n",
    "        context = f\"Information about {entity_name} retrieved from Wikidata.\"\n",
    "    else:\n",
    "        context = f\"No Wikidata context found for {entity_name}.\"\n",
    "\n",
    "    # Tokenize and encode the context using Llama\n",
    "    inputs = tokenizer(context, return_tensors=\"pt\", truncation=True).to(model.device)\n",
    "    with torch.no_grad():\n",
    "        outputs = model(**inputs, output_hidden_states=True)\n",
    "    \n",
    "    # Use the last hidden state as the embedding\n",
    "    rag_embedding = outputs.hidden_states[-1].mean(dim=1).squeeze().cpu().numpy()\n",
    "    return rag_embedding\n",
    "\n",
    "def generate_augmented_embeddings(triples_factory):\n",
    "    \"\"\"\n",
    "    Generate embeddings combining Hetionet and RAG features using extracted triples.\n",
    "    \"\"\"\n",
    "    augmented_embeddings = []\n",
    "    triples = triples_factory.mapped_triples  # Extract triples as tensor [num_triples, 3]\n",
    "    for triple in tqdm(triples, desc=\"Generating augmented embeddings\"):\n",
    "        head, relation, tail = triple.tolist()  # Convert tensor to list for indexing\n",
    "        \n",
    "        # Get entity labels for head and tail\n",
    "        head_label = triples_factory.entity_to_id[head]\n",
    "        tail_label = triples_factory.entity_to_id[tail]\n",
    "        \n",
    "        # Generate embeddings\n",
    "        head_emb = get_rag_embedding(head_label)\n",
    "        tail_emb = get_rag_embedding(tail_label)\n",
    "        \n",
    "        # Concatenate embeddings\n",
    "        combined_emb = np.concatenate([head_emb, tail_emb])\n",
    "        augmented_embeddings.append(combined_emb)\n",
    "    \n",
    "    return np.array(augmented_embeddings)\n",
    "\n",
    "# Example: Process training data\n",
    "training_augmented_embeddings = generate_augmented_embeddings(training)\n",
    "\n",
    "# Use augmented embeddings in your model pipeline\n",
    "result = pipeline(\n",
    "    training=training_augmented_embeddings,\n",
    "    testing=testing,  # Similarly process testing and validation\n",
    "    validation=validation,\n",
    "    model=\"RotatE\",  # Use RotatE or any other model\n",
    "    stopper=\"early\",\n",
    "    epochs=4,\n",
    "    dimensions=256,  # Adjust dimensions to match combined embeddings\n",
    "    random_seed=420,\n",
    ")\n",
    "result.plot_losses()"
   ],
   "id": "4ba34fe209e32db5",
   "outputs": [
    {
     "ename": "NameError",
     "evalue": "name 'tqdm' is not defined",
     "output_type": "error",
     "traceback": [
      "\u001B[0;31m---------------------------------------------------------------------------\u001B[0m",
      "\u001B[0;31mNameError\u001B[0m                                 Traceback (most recent call last)",
      "Cell \u001B[0;32mIn[6], line 49\u001B[0m\n\u001B[1;32m     46\u001B[0m     \u001B[38;5;28;01mreturn\u001B[39;00m np\u001B[38;5;241m.\u001B[39marray(augmented_embeddings)\n\u001B[1;32m     48\u001B[0m \u001B[38;5;66;03m# Example: Process training data\u001B[39;00m\n\u001B[0;32m---> 49\u001B[0m training_augmented_embeddings \u001B[38;5;241m=\u001B[39m \u001B[43mgenerate_augmented_embeddings\u001B[49m\u001B[43m(\u001B[49m\u001B[43mtraining\u001B[49m\u001B[43m)\u001B[49m\n\u001B[1;32m     51\u001B[0m \u001B[38;5;66;03m# Use augmented embeddings in your model pipeline\u001B[39;00m\n\u001B[1;32m     52\u001B[0m result \u001B[38;5;241m=\u001B[39m pipeline(\n\u001B[1;32m     53\u001B[0m     training\u001B[38;5;241m=\u001B[39mtraining_augmented_embeddings,\n\u001B[1;32m     54\u001B[0m     testing\u001B[38;5;241m=\u001B[39mtesting,  \u001B[38;5;66;03m# Similarly process testing and validation\u001B[39;00m\n\u001B[0;32m   (...)\u001B[0m\n\u001B[1;32m     60\u001B[0m     random_seed\u001B[38;5;241m=\u001B[39m\u001B[38;5;241m420\u001B[39m,\n\u001B[1;32m     61\u001B[0m )\n",
      "Cell \u001B[0;32mIn[6], line 31\u001B[0m, in \u001B[0;36mgenerate_augmented_embeddings\u001B[0;34m(triples_factory)\u001B[0m\n\u001B[1;32m     29\u001B[0m augmented_embeddings \u001B[38;5;241m=\u001B[39m []\n\u001B[1;32m     30\u001B[0m triples \u001B[38;5;241m=\u001B[39m triples_factory\u001B[38;5;241m.\u001B[39mmapped_triples  \u001B[38;5;66;03m# Extract triples as tensor [num_triples, 3]\u001B[39;00m\n\u001B[0;32m---> 31\u001B[0m \u001B[38;5;28;01mfor\u001B[39;00m triple \u001B[38;5;129;01min\u001B[39;00m \u001B[43mtqdm\u001B[49m(triples, desc\u001B[38;5;241m=\u001B[39m\u001B[38;5;124m\"\u001B[39m\u001B[38;5;124mGenerating augmented embeddings\u001B[39m\u001B[38;5;124m\"\u001B[39m):\n\u001B[1;32m     32\u001B[0m     head, relation, tail \u001B[38;5;241m=\u001B[39m triple\u001B[38;5;241m.\u001B[39mtolist()  \u001B[38;5;66;03m# Convert tensor to list for indexing\u001B[39;00m\n\u001B[1;32m     34\u001B[0m     \u001B[38;5;66;03m# Get entity labels for head and tail\u001B[39;00m\n",
      "\u001B[0;31mNameError\u001B[0m: name 'tqdm' is not defined"
     ]
    }
   ],
   "execution_count": 6
  },
  {
   "metadata": {},
   "cell_type": "code",
   "outputs": [],
   "execution_count": null,
   "source": [
    "from typing import Optional\n",
    "import torch\n",
    "from torch import nn\n",
    "import torch.nn.functional as F\n",
    "from pykeen.models import ERModel\n",
    "from pykeen.nn import Embedding, Interaction\n",
    "from transformers import PreTrainedModel, PreTrainedTokenizer\n",
    "\n",
    "class LLaMaEnhancedInteraction(Interaction):\n",
    "    def __init__(\n",
    "        self,\n",
    "        llama_model: PreTrainedModel,\n",
    "        tokenizer: PreTrainedTokenizer,\n",
    "        embedding_dim: int = 256\n",
    "    ):\n",
    "        print(\"Starting Interaction initialization\")\n",
    "        super().__init__()\n",
    "        \n",
    "        self.llama = llama_model\n",
    "        self.tokenizer = tokenizer\n",
    "        self.embedding_dim = embedding_dim\n",
    "        \n",
    "        # Explicitly set dtype for linear layers\n",
    "        self.llama_projection = nn.Linear(\n",
    "            self.llama.config.hidden_size,\n",
    "            embedding_dim,\n",
    "        ).to(dtype=torch.float32)\n",
    "        \n",
    "        self.combine_layer = nn.Linear(\n",
    "            embedding_dim * 2,\n",
    "            embedding_dim,\n",
    "        ).to(dtype=torch.float32)\n",
    "\n",
    "    def forward(self, h: torch.FloatTensor, r: torch.FloatTensor, t: torch.FloatTensor) -> torch.FloatTensor:\n",
    "        # Convert entity IDs to text descriptions\n",
    "        h_ids = torch.arange(len(h), device=h.device)\n",
    "        t_ids = torch.arange(len(t), device=t.device)\n",
    "        \n",
    "        # Get LLaMA embeddings and convert to float32\n",
    "        h_llama = self._get_llama_embeddings(h_ids).to(dtype=torch.float32)\n",
    "        t_llama = self._get_llama_embeddings(t_ids).to(dtype=torch.float32)\n",
    "        \n",
    "        # Ensure all tensors are float32\n",
    "        h = h.to(dtype=torch.float32)\n",
    "        r = r.to(dtype=torch.float32)\n",
    "        t = t.to(dtype=torch.float32)\n",
    "        \n",
    "        # Combine embeddings\n",
    "        h_combined = self.combine_layer(torch.cat([h, h_llama], dim=-1))\n",
    "        t_combined = self.combine_layer(torch.cat([t, t_llama], dim=-1))\n",
    "        \n",
    "        # Calculate similarity scores\n",
    "        return torch.sum((h_combined + r) * t_combined, dim=-1)\n",
    "\n",
    "    def _get_llama_embeddings(self, ids: torch.Tensor) -> torch.Tensor:\n",
    "        texts = [f\"Entity {ent.item()}\" for ent in ids]\n",
    "        inputs = self.tokenizer(texts, return_tensors=\"pt\", padding=True, truncation=True)\n",
    "        inputs = {k: v.to(self.llama.device) for k, v in inputs.items()}\n",
    "        \n",
    "        with torch.no_grad():\n",
    "            outputs = self.llama(**inputs)\n",
    "            # Convert from float16 to float32\n",
    "            embeddings = outputs.last_hidden_state[:, 0, :].to(dtype=torch.float32)\n",
    "        \n",
    "        return self.llama_projection(embeddings)\n",
    "\n",
    "class LLaMaEnhancedKGEModel(ERModel):\n",
    "    def __init__(\n",
    "        self,\n",
    "        llama_model: PreTrainedModel,\n",
    "        tokenizer: PreTrainedTokenizer,\n",
    "        embedding_dim: int = 256,\n",
    "        **kwargs,\n",
    "    ) -> None:\n",
    "        print(\"Starting model initialization\")\n",
    "        \n",
    "        # Ensure we're working with the right precision\n",
    "        self.embedding_dim = embedding_dim\n",
    "        \n",
    "        super().__init__(\n",
    "            interaction=LLaMaEnhancedInteraction,\n",
    "            interaction_kwargs=dict(\n",
    "                llama_model=llama_model,\n",
    "                tokenizer=tokenizer,\n",
    "                embedding_dim=embedding_dim,\n",
    "            ),\n",
    "            entity_representations=Embedding,\n",
    "            entity_representations_kwargs=dict(\n",
    "                shape=(embedding_dim,),  # Note: shape must be a tuple\n",
    "                initializer='xavier_uniform',\n",
    "            ),\n",
    "            relation_representations=Embedding,\n",
    "            relation_representations_kwargs=dict(\n",
    "                shape=(embedding_dim,),  # Note: shape must be a tuple\n",
    "                initializer='xavier_uniform',\n",
    "            ),\n",
    "            **kwargs,\n",
    "        )\n",
    "\n",
    "def create_enhanced_pipeline(\n",
    "    training,\n",
    "    testing,\n",
    "    validation,\n",
    "    llama_model: PreTrainedModel,\n",
    "    tokenizer: PreTrainedTokenizer,\n",
    "    embedding_dim: int = 256,\n",
    ") -> 'PipelineResult':\n",
    "    \"\"\"Create an enhanced pipeline combining LLaMA and PyKEEN models.\"\"\"\n",
    "    # Ensure LLaMA is on correct device\n",
    "    device = 'cuda' if torch.cuda.is_available() else 'cpu'\n",
    "    llama_model = llama_model.to(device)\n",
    "    \n",
    "    # Create and run pipeline\n",
    "    result = pipeline(\n",
    "        training=training,\n",
    "        testing=testing,\n",
    "        validation=validation,\n",
    "        model=LLaMaEnhancedKGEModel,\n",
    "        model_kwargs={\n",
    "            'llama_model': llama_model,\n",
    "            'tokenizer': tokenizer,\n",
    "            'embedding_dim': embedding_dim,\n",
    "        },\n",
    "        optimizer='adam',\n",
    "        optimizer_kwargs={'lr': 0.001},\n",
    "        loss='marginranking',\n",
    "        training_kwargs={\n",
    "            'num_epochs': 1, \n",
    "            'batch_size': 128,\n",
    "        },\n",
    "        negative_sampler='basic',\n",
    "        evaluator='rankbased',\n",
    "        evaluator_kwargs={'batch_size': 128},\n",
    "        stopper='early',\n",
    "        stopper_kwargs={\n",
    "            'frequency': 5, \n",
    "            'patience': 2,\n",
    "        },\n",
    "        device=device,\n",
    "    )\n",
    "    \n",
    "    return result"
   ],
   "id": "8fd1cede2316fc13"
  },
  {
   "metadata": {
    "ExecuteTime": {
     "end_time": "2025-01-04T14:07:26.005675533Z",
     "start_time": "2025-01-03T13:36:01.788967Z"
    }
   },
   "cell_type": "code",
   "source": [
    "from tqdm import tqdm\n",
    "import requests\n",
    "\n",
    "def check_wikidata_entry(name, print_results=True):\n",
    "    \"\"\"\n",
    "    Check if a given name has a corresponding Wikidata entry and optionally print the results.\n",
    "    \"\"\"\n",
    "    url = f\"https://www.wikidata.org/w/api.php\"\n",
    "    params = {\n",
    "        \"action\": \"wbsearchentities\",\n",
    "        \"format\": \"json\",\n",
    "        \"language\": \"en\",\n",
    "        \"search\": name\n",
    "    }\n",
    "    try:\n",
    "        response = requests.get(url, params=params)\n",
    "        if response.status_code == 200:\n",
    "            data = response.json()\n",
    "            search_results = data.get(\"search\", [])\n",
    "            if print_results:\n",
    "                print(f\"Results for '{name}':\")\n",
    "                for result in search_results:\n",
    "                    print(f\" - Label: {result.get('label')}, Description: {result.get('description')}, ID: {result.get('id')}\")\n",
    "            return len(search_results) > 0  # True if at least one match found\n",
    "    except Exception as e:\n",
    "        print(f\"Error checking {name}: {e}\")\n",
    "    return False\n",
    "\n",
    "def calculate_match_percentage(names):\n",
    "    \"\"\"\n",
    "    Calculate the percentage of names found in Wikidata.\n",
    "    \"\"\"\n",
    "    unique_names = set(names)  # Ensure uniqueness\n",
    "    matches = [check_wikidata_entry(name) for name in tqdm(unique_names, desc=\"Checking Wikidata\")]\n",
    "\n",
    "    found_count = sum(matches)\n",
    "    total_count = len(unique_names)\n",
    "    percentage_found = (found_count / total_count) * 100 if total_count > 0 else 0\n",
    "\n",
    "    return found_count, total_count, percentage_found\n",
    "\n",
    "# Assuming `data[\"source\"]` is the pandas Series with the names\n",
    "\n",
    "# Extract names as a list\n",
    "names = data[\"source\"].dropna().tolist()  # Drop any NaN values for safety\n",
    "\n",
    "# Calculate match statistics\n",
    "found_count, total_count, percentage_found = calculate_match_percentage(names)\n",
    "\n",
    "# Print results\n",
    "print(f\"Checked {total_count} unique entities.\")\n",
    "print(f\"Found Wikidata entries for {found_count} entities.\")\n",
    "print(f\"Percentage found: {percentage_found:.2f}%\")"
   ],
   "id": "9671eaa3dfebdb74",
   "outputs": [
    {
     "name": "stderr",
     "output_type": "stream",
     "text": [
      "Checking Wikidata:  10%|█         | 1/10 [00:07<01:10,  7.80s/it]"
     ]
    },
    {
     "name": "stdout",
     "output_type": "stream",
     "text": [
      "Results for 'MYOG':\n",
      " - Label: Myogenin, Description: mammalian protein found in Mus musculus, ID: Q14906388\n",
      " - Label: myogenin, Description: mammalian protein found in Homo sapiens, ID: Q166726\n",
      " - Label: Myog, Description: protein-coding gene in the species Mus musculus, ID: Q14906385\n",
      " - Label: MYOG, Description: protein-coding gene in the species Homo sapiens, ID: Q14906383\n",
      " - Label: myoglobinuria, Description: myopathy that is characterized by an increased urinary excretion of myoglobin, ID: Q1956682\n",
      " - Label: MYOG, Description: None, ID: Q62459908\n",
      " - Label: MYOG, Description: None, ID: Q61516929\n"
     ]
    },
    {
     "name": "stderr",
     "output_type": "stream",
     "text": [
      "Checking Wikidata:  20%|██        | 2/10 [00:08<00:27,  3.48s/it]"
     ]
    },
    {
     "name": "stdout",
     "output_type": "stream",
     "text": [
      "Results for 'PPP1R13L':\n",
      " - Label: PPP1R13L, Description: protein-coding gene in the species Homo sapiens, ID: Q18035887\n",
      " - Label: Protein phosphatase 1 regulatory subunit 13 like, Description: mammalian protein found in Homo sapiens, ID: Q21110180\n",
      " - Label: Ppp1r13l, Description: protein-coding gene in the species Mus musculus, ID: Q18302855\n",
      " - Label: Ppp1r13l, Description: protein-coding gene in the species Rattus norvegicus, ID: Q24393765\n",
      " - Label: Protein phosphatase 1, regulatory subunit 13 like, Description: mammalian protein found in Mus musculus, ID: Q21498616\n",
      " - Label: Protein phosphatase 1, regulatory subunit 13 like, Description: mammalian protein found in Rattus norvegicus, ID: Q29519180\n",
      " - Label: PPP1R13L, Description: gene of the species Macaca nemestrina, ID: Q24616154\n"
     ]
    },
    {
     "name": "stderr",
     "output_type": "stream",
     "text": [
      "Checking Wikidata:  30%|███       | 3/10 [00:08<00:14,  2.12s/it]"
     ]
    },
    {
     "name": "stdout",
     "output_type": "stream",
     "text": [
      "Results for 'DNAJC24':\n",
      " - Label: DNAJC24, Description: protein-coding gene in the species Homo sapiens, ID: Q18049400\n",
      " - Label: dnajc24, Description: protein-coding gene in the species Danio rerio, ID: Q29768864\n",
      " - Label: Dnajc24, Description: protein-coding gene in the species Mus musculus, ID: Q18271021\n",
      " - Label: Dnajc24, Description: protein-coding gene in the species Rattus norvegicus, ID: Q24389771\n",
      " - Label: DnaJ heat shock protein family (Hsp40) member C24, Description: mammalian protein found in Homo sapiens, ID: Q21131977\n",
      " - Label: DNAJC24, Description: gene of the species Macaca nemestrina, ID: Q24591556\n",
      " - Label: DnaJ heat shock protein family (Hsp40) member C24, Description: mammalian protein found in Mus musculus, ID: Q21984431\n"
     ]
    },
    {
     "name": "stderr",
     "output_type": "stream",
     "text": [
      "Checking Wikidata:  40%|████      | 4/10 [00:09<00:08,  1.45s/it]"
     ]
    },
    {
     "name": "stdout",
     "output_type": "stream",
     "text": [
      "Results for 'SNW1':\n",
      " - Label: SNW domain containing 1, Description: mammalian protein found in Homo sapiens, ID: Q21114222\n",
      " - Label: SNW1, Description: protein-coding gene in the species Homo sapiens, ID: Q18036608\n",
      " - Label: PRP45, Description: None, ID: Q19051302\n",
      " - Label: PRP45, Description: None, ID: Q59907693\n",
      " - Label: PRP45, Description: None, ID: Q59970646\n",
      " - Label: PRP45, Description: None, ID: Q59953223\n",
      " - Label: PRP45, Description: None, ID: Q59952065\n"
     ]
    },
    {
     "name": "stderr",
     "output_type": "stream",
     "text": [
      "Checking Wikidata:  50%|█████     | 5/10 [00:09<00:05,  1.11s/it]"
     ]
    },
    {
     "name": "stdout",
     "output_type": "stream",
     "text": [
      "Results for 'OR2AP1':\n",
      " - Label: OR2AP1, Description: protein-coding gene in the species Homo sapiens, ID: Q18049420\n",
      " - Label: Olfactory receptor family 2 subfamily AP member 1, Description: mammalian protein found in Homo sapiens, ID: Q21120273\n"
     ]
    },
    {
     "name": "stderr",
     "output_type": "stream",
     "text": [
      "Checking Wikidata:  60%|██████    | 6/10 [00:10<00:03,  1.10it/s]"
     ]
    },
    {
     "name": "stdout",
     "output_type": "stream",
     "text": [
      "Results for 'PEX16':\n",
      " - Label: PEX16, Description: protein-coding gene in the species Homo sapiens, ID: Q18034069\n",
      " - Label: Peroxisomal biogenesis factor 16, Description: mammalian protein found in Homo sapiens, ID: Q21122505\n",
      " - Label: Pex16, Description: protein-coding gene in the species Mus musculus, ID: Q18252981\n",
      " - Label: pex16, Description: protein-coding gene in the species Danio rerio, ID: Q29747711\n",
      " - Label: Peroxisome membrane protein, Pex16, Description: InterPro Family, ID: Q24777833\n",
      " - Label: Pex16, Description: protein-coding gene in the species Drosophila melanogaster, ID: Q29720790\n",
      " - Label: Peroxin 16 Dmel_CG3947, Description: Protein found in Drosophila melanogaster, ID: Q29814840\n"
     ]
    },
    {
     "name": "stderr",
     "output_type": "stream",
     "text": [
      "Checking Wikidata:  70%|███████   | 7/10 [00:10<00:02,  1.35it/s]"
     ]
    },
    {
     "name": "stdout",
     "output_type": "stream",
     "text": [
      "Results for 'ASGR1':\n",
      " - Label: ASGR1, Description: protein-coding gene in the species Homo sapiens, ID: Q17832212\n",
      " - Label: Asgr1, Description: protein-coding gene in the species Mus musculus, ID: Q18247840\n",
      " - Label: Asialoglycoprotein receptor 1, Description: mammalian protein found in Homo sapiens, ID: Q21130024\n",
      " - Label: Asgr1, Description: protein-coding gene in the species Rattus norvegicus, ID: Q24407404\n",
      " - Label: Asialoglycoprotein receptor 1, Description: mammalian protein found in Mus musculus, ID: Q21981205\n",
      " - Label: Asialoglycoprotein receptor 1, Description: mammalian protein found in Rattus norvegicus, ID: Q28558636\n",
      " - Label: ASGR1, Description: gene of the species Macaca nemestrina, ID: Q24600209\n"
     ]
    },
    {
     "name": "stderr",
     "output_type": "stream",
     "text": [
      "Checking Wikidata:  80%|████████  | 8/10 [00:10<00:01,  1.65it/s]"
     ]
    },
    {
     "name": "stdout",
     "output_type": "stream",
     "text": [
      "Results for 'SERPINF2':\n",
      " - Label: SERPINF2, Description: protein-coding gene in the species Homo sapiens, ID: Q14864955\n",
      " - Label: Serpin family F member 2, Description: mammalian protein found in Homo sapiens, ID: Q4734972\n",
      " - Label: Serpinf2, Description: protein-coding gene in the species Mus musculus, ID: Q14864956\n",
      " - Label: Serpinf2, Description: protein-coding gene in the species Rattus norvegicus, ID: Q24397353\n",
      " - Label: serpinf2a, Description: protein-coding gene in the species Danio rerio, ID: Q29767199\n",
      " - Label: Serine (or cysteine) peptidase inhibitor, clade F, member 2, Description: mammalian protein found in Mus musculus, ID: Q14864957\n",
      " - Label: Serpin family F member 2, Description: mammalian protein found in Rattus norvegicus, ID: Q29522697\n"
     ]
    },
    {
     "name": "stderr",
     "output_type": "stream",
     "text": [
      "Checking Wikidata:  90%|█████████ | 9/10 [00:11<00:00,  1.84it/s]"
     ]
    },
    {
     "name": "stdout",
     "output_type": "stream",
     "text": [
      "Results for 'VEGFC':\n",
      " - Label: VEGFC, Description: protein-coding gene in the species Homo sapiens, ID: Q5398950\n",
      " - Label: Vascular endothelial growth factor C, Description: mammalian protein found in Homo sapiens, ID: Q7916457\n",
      " - Label: Vegfc, Description: protein-coding gene in the species Mus musculus, ID: Q18255311\n",
      " - Label: Vascular endothelial growth factor C, Description: mammalian protein found in Mus musculus, ID: Q21992407\n",
      " - Label: vegfc, Description: protein-coding gene in the species Danio rerio, ID: Q29752596\n",
      " - Label: Vegfc, Description: protein-coding gene in the species Rattus norvegicus, ID: Q24407466\n",
      " - Label: VEGFC, Description: gene of the species Macaca nemestrina, ID: Q24586664\n"
     ]
    },
    {
     "name": "stderr",
     "output_type": "stream",
     "text": [
      "Checking Wikidata: 100%|██████████| 10/10 [00:11<00:00,  1.16s/it]"
     ]
    },
    {
     "name": "stdout",
     "output_type": "stream",
     "text": [
      "Results for 'HSFX1':\n",
      " - Label: Heat shock transcription factor family, X-linked 2, Description: mammalian protein found in Homo sapiens, ID: Q21132139\n",
      " - Label: HSFX1, Description: protein-coding gene in the species Homo sapiens, ID: Q18067945\n",
      "Checked 10 unique entities.\n",
      "Found Wikidata entries for 10 entities.\n",
      "Percentage found: 100.00%\n"
     ]
    },
    {
     "name": "stderr",
     "output_type": "stream",
     "text": [
      "\n"
     ]
    }
   ],
   "execution_count": 39
  }
 ],
 "metadata": {
  "kernelspec": {
   "display_name": "Python 3",
   "language": "python",
   "name": "python3"
  },
  "language_info": {
   "codemirror_mode": {
    "name": "ipython",
    "version": 2
   },
   "file_extension": ".py",
   "mimetype": "text/x-python",
   "name": "python",
   "nbconvert_exporter": "python",
   "pygments_lexer": "ipython2",
   "version": "2.7.6"
  }
 },
 "nbformat": 4,
 "nbformat_minor": 5
}
