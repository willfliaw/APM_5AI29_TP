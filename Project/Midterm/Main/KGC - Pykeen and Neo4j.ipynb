{
 "cells": [
  {
   "cell_type": "markdown",
   "id": "17cd0a68",
   "metadata": {},
   "source": [
    "# Knowledge Graph Completion\n",
    "\n",
    "Knowledge Graph Completion (KGC) is the process of enhancing or enriching a knowledge graph by predicting and filling in missing information (links or nodes). A knowledge graph represents relationships between entities in the form of a graph, where entities are nodes and relationships are edges. However, real-world knowledge graphs are often incomplete, with many potential links missing. KGC aims to infer these missing links or facts by leveraging existing data and patterns in the graph.\n",
    "\n",
    "### Key Concepts:\n",
    "\n",
    "-   Entities: Represent real-world objects (e.g., people, places, organizations).\n",
    "-   Relations: The connections between entities (e.g., \"works_for\", \"located_in\").\n",
    "-   Triples: The fundamental unit of a knowledge graph, typically in the form of $(h, r, t)$, where:\n",
    "    -   $ h $ (head) is the starting entity.\n",
    "    -   $ r $ (relation) describes the type of connection.\n",
    "    -   $ t $ (tail) is the target entity.\n",
    "    -   Example: $(\\text{Einstein}, \\text{invented}, \\text{Theory of Relativity})$.\n",
    "\n",
    "### Example of Completion:\n",
    "\n",
    "Given a knowledge graph with the triple:\n",
    "\n",
    "-   $(\\text{Paris}, \\text{capital\\_of}, ?)$\n",
    "\n",
    "    KGC would predict that the missing entity is \"France.\"\n",
    "\n",
    "### Techniques for Knowledge Graph Completion:\n",
    "\n",
    "1. Embedding-Based Methods:\n",
    "    - Translate entities and relations into a continuous vector space.\n",
    "    - Models: TransE, TransH, DistMult, ComplEx.\n",
    "2. Rule-Based Approaches:\n",
    "    - Learn logical rules from the graph to infer missing links.\n",
    "    - Example: If $A \\rightarrow B$ and $B \\rightarrow C$, then $A \\rightarrow C$.\n",
    "3. Graph Neural Networks (GNNs):\n",
    "    - Leverage neural networks to learn from the graph structure.\n",
    "4. Probabilistic Models:\n",
    "    - Predict links based on statistical and probabilistic relationships.\n",
    "5. Neuro-symbolic Approaches:\n",
    "    - Combine symbolic reasoning with neural networks for better interpretability.\n",
    "6. Large Language Models (LLMs):\n",
    "    - Use LLMs to extract triples from text or predict missing relations directly.\n",
    "    - Techniques: Fine-tuning on graph data, prompt-based triple prediction, embedding extraction.\n",
    "\n",
    "### Applications of KGC:\n",
    "\n",
    "-   Recommendation Systems: Predict user preferences by completing user-item interaction graphs.\n",
    "-   Healthcare: Fill missing links in biomedical knowledge graphs for drug discovery.\n",
    "-   Search Engines: Enhance search capabilities by improving knowledge graph coverage.\n",
    "-   Finance: Predict links between entities for fraud detection or market analysis.\n"
   ]
  },
  {
   "cell_type": "markdown",
   "id": "0db242ba",
   "metadata": {},
   "source": [
    "# PyKEEN and Neo4j for multi-class link prediction using knowledge graph embedding models\n",
    "\n",
    "This notebook demonstrates how to perform knowledge graph completion, focusing on multi-class link prediction. Unlike standard link prediction, which predicts the existence of a link, multi-class link prediction also classifies the type of relationship between entities.\n",
    "\n",
    "To apply this method, the knowledge graph must contain multiple relationship types. If the graph has only one type of relationship, standard [link prediction techniques](https://towardsdatascience.com/a-deep-dive-into-neo4j-link-prediction-pipeline-and-fastrp-embedding-algorithm-bf244aeed50d) or alternative approaches that do not require relationship classification may be more suitable.\n",
    "\n",
    "For multi-class link prediction, we employ knowledge graph embedding models rather than traditional node embedding models. The key distinction lies in their scope:\n",
    "\n",
    "-   Node embedding models generate embeddings solely for nodes.\n",
    "-   Knowledge graph embedding models create embeddings for both nodes and relationships.\n",
    "\n",
    "In knowledge graph embedding, the conventional notation is:\n",
    "\n",
    "-   $h$ – head (starting node)\n",
    "-   $r$ – relationship (edge)\n",
    "-   $t$ – tail (target node)\n",
    "\n",
    "The core idea is that if a relationship exists between nodes, the embedding of the head node ($h$) plus the embedding of the relationship ($r$) should approximate the embedding of the tail node ($t$): $h + r \\approx t$\n",
    "\n",
    "Prediction follows intuitively from this principle. To infer new relationships for a node, sum the node's embedding with the embedding of a candidate relationship, then evaluate which nodes are closest to the result in the embedding space.\n"
   ]
  },
  {
   "cell_type": "markdown",
   "id": "f520e31e",
   "metadata": {},
   "source": [
    "# Neo4j Desktop\n",
    "\n",
    "To follow along with this notebook, ensure that the Neo4j Desktop application is installed.\n",
    "\n",
    "Neo4j is a leading graph database platform designed to efficiently store, manage, and query data that is highly interconnected. Unlike traditional relational databases, Neo4j uses a property graph model where data is represented as nodes (entities), edges (relationships), and properties (attributes). This structure makes Neo4j particularly well-suited for applications involving complex relationships, such as knowledge graphs, social networks, fraud detection, and recommendation systems.\n",
    "\n",
    "Key Features of Neo4j:\n",
    "\n",
    "-   Native Graph Storage and Processing – Optimized for handling graph data directly.\n",
    "-   Cypher Query Language – A powerful, declarative language designed for graph traversal and pattern matching.\n",
    "-   Scalability and Performance – Handles large-scale data while maintaining high performance for complex queries.\n",
    "-   Visualization Tools – Enables intuitive visualization of graph structures and relationships.\n",
    "-   Extensibility – Supports integration with various tools, plugins, and programming languages.\n",
    "\n",
    "After installing Neo4j Desktop, download a database dump and restore it to create a database instance. For this demonstration, you can use a [subset of the Hetionet](https://drive.google.com/file/d/1u34cFBYvBtdBsqOUPdmbcIyIt88IiZYe/view?usp=sharing), a knowledge graph containing information on genes, compounds, and diseases. This dataset includes numerous relationships between entities, primarily within the biomedical domain. While a deep understanding of these relationships may require domain expertise, we will focus on the treats relationship, which links compounds to diseases.\n",
    "\n",
    "<div style=\"border: 2px solid orange; background-color: #f9c74f; max-width: 80%; padding: 15px; border-radius: 8px; font-family: Arial, sans-serif; color: black; box-sizing: border-box;\">\n",
    "\n",
    "<strong>Disclaimer:</strong> The dump of the subset of the Hetionet requires version $4.3$.\n",
    "\n",
    "</div>\n",
    "\n",
    "In this notebook, we will apply knowledge graph embedding models to predict new treats relationships, simulating a drug repurposing task – identifying potential new uses for existing drugs based on inferred connections within the graph."
   ]
  },
  {
   "cell_type": "markdown",
   "id": "72f3beed",
   "metadata": {},
   "source": [
    "# PyKEEN\n",
    "\n",
    "[PyKEEN](https://pykeen.readthedocs.io/en/stable/index.html) (Python Knowledge Embedding Engine) is an open-source Python library for training and evaluating knowledge graph embedding (KGE) models. It simplifies the application of machine learning to knowledge graphs by providing pre-implemented models, training pipelines, and evaluation tools.  \n",
    "\n",
    "## Key Features:  \n",
    "\n",
    "- Model Support: Includes models like TransE, DistMult, ComplEx, and RotatE.  \n",
    "- Modular and Customizable: Easily mix, match, and extend components.  \n",
    "- Automation: Handles hyperparameter tuning, training, and evaluation.  \n",
    "- Benchmarking: Compares model performance across datasets.  \n",
    "- Visualization: Offers tools to analyze embeddings and results.  \n",
    "\n",
    "## Use Cases:  \n",
    "\n",
    "- Knowledge Graph Completion: Predict missing links and relationship types.  \n",
    "- Link Prediction: Identify potential connections between entities.  \n",
    "- Node Classification: Infer properties or classes for nodes.  \n",
    "- Recommender Systems: Suggest related items by predicting links.  \n",
    "- Biomedical and NLP Applications: Predict interactions, enhance search, and retrieve information.  \n",
    "\n",
    "PyKEEN is widely used in fields like healthcare, social networks, and recommendation systems for knowledge graph analysis and enrichment."
   ]
  },
  {
   "cell_type": "markdown",
   "id": "a276429b",
   "metadata": {},
   "source": [
    "# Imports"
   ]
  },
  {
   "cell_type": "code",
   "execution_count": 1,
   "id": "4a5d5e12",
   "metadata": {},
   "outputs": [],
   "source": [
    "import pandas as pd\n",
    "from neo4j import GraphDatabase\n",
    "from pykeen import predict\n",
    "from pykeen.evaluation import RankBasedEvaluator\n",
    "from pykeen.pipeline import pipeline\n",
    "from pykeen.triples import TriplesFactory"
   ]
  },
  {
   "cell_type": "markdown",
   "id": "facd1844",
   "metadata": {},
   "source": [
    "# Hyperparameter definitions"
   ]
  },
  {
   "cell_type": "markdown",
   "id": "56328d06",
   "metadata": {},
   "source": [
    "The next cell establishes a connection to the Neo4j database."
   ]
  },
  {
   "cell_type": "code",
   "execution_count": 2,
   "id": "60f9cf12",
   "metadata": {},
   "outputs": [],
   "source": [
    "# Define Neo4j connections\n",
    "host = \"bolt://localhost:7687\"\n",
    "user = \"neo4j\"\n",
    "password = \"12345678\"\n",
    "driver = GraphDatabase.driver(host, auth=(user, password))"
   ]
  },
  {
   "cell_type": "markdown",
   "id": "d07fcb99",
   "metadata": {},
   "source": [
    "# Auxiliary functions"
   ]
  },
  {
   "cell_type": "markdown",
   "id": "079ff947",
   "metadata": {},
   "source": [
    "The `run_query` function executes a Cypher query and returns the results as a Pandas DataFrame."
   ]
  },
  {
   "cell_type": "code",
   "execution_count": 3,
   "id": "ee9a1139",
   "metadata": {},
   "outputs": [],
   "source": [
    "def run_query(query, params={}):\n",
    "    with driver.session() as session:\n",
    "        result = session.run(query, params)\n",
    "        return pd.DataFrame([r.values() for r in result], columns=result.keys())"
   ]
  },
  {
   "cell_type": "markdown",
   "id": "67980348",
   "metadata": {},
   "source": [
    "# Transform a Neo4j to a PyKEEN\n",
    "\n",
    "First, we will convert the Neo4j graph into a PyKEEN-compatible format and split the data into training and testing sets."
   ]
  },
  {
   "cell_type": "code",
   "execution_count": 4,
   "id": "562a480b",
   "metadata": {},
   "outputs": [],
   "source": [
    "data = run_query(\n",
    "    \"\"\"\n",
    "    MATCH (s)-[r]->(t)\n",
    "    RETURN toString(id(s)) as source, toString(id(t)) AS target, type(r) as type\n",
    "    \"\"\"\n",
    ")"
   ]
  },
  {
   "cell_type": "code",
   "execution_count": 5,
   "id": "a5dcda05",
   "metadata": {},
   "outputs": [
    {
     "data": {
      "text/html": [
       "<div>\n",
       "<style scoped>\n",
       "    .dataframe tbody tr th:only-of-type {\n",
       "        vertical-align: middle;\n",
       "    }\n",
       "\n",
       "    .dataframe tbody tr th {\n",
       "        vertical-align: top;\n",
       "    }\n",
       "\n",
       "    .dataframe thead th {\n",
       "        text-align: right;\n",
       "    }\n",
       "</style>\n",
       "<table border=\"1\" class=\"dataframe\">\n",
       "  <thead>\n",
       "    <tr style=\"text-align: right;\">\n",
       "      <th></th>\n",
       "      <th>source</th>\n",
       "      <th>target</th>\n",
       "      <th>type</th>\n",
       "    </tr>\n",
       "  </thead>\n",
       "  <tbody>\n",
       "    <tr>\n",
       "      <th>0</th>\n",
       "      <td>0</td>\n",
       "      <td>12590</td>\n",
       "      <td>interacts</td>\n",
       "    </tr>\n",
       "    <tr>\n",
       "      <th>1</th>\n",
       "      <td>0</td>\n",
       "      <td>8752</td>\n",
       "      <td>interacts</td>\n",
       "    </tr>\n",
       "    <tr>\n",
       "      <th>2</th>\n",
       "      <td>0</td>\n",
       "      <td>7915</td>\n",
       "      <td>interacts</td>\n",
       "    </tr>\n",
       "    <tr>\n",
       "      <th>3</th>\n",
       "      <td>0</td>\n",
       "      <td>21711</td>\n",
       "      <td>interacts</td>\n",
       "    </tr>\n",
       "    <tr>\n",
       "      <th>4</th>\n",
       "      <td>0</td>\n",
       "      <td>6447</td>\n",
       "      <td>interacts</td>\n",
       "    </tr>\n",
       "  </tbody>\n",
       "</table>\n",
       "</div>"
      ],
      "text/plain": [
       "  source target       type\n",
       "0      0  12590  interacts\n",
       "1      0   8752  interacts\n",
       "2      0   7915  interacts\n",
       "3      0  21711  interacts\n",
       "4      0   6447  interacts"
      ]
     },
     "execution_count": 5,
     "metadata": {},
     "output_type": "execute_result"
    }
   ],
   "source": [
    "data.head()"
   ]
  },
  {
   "cell_type": "code",
   "execution_count": 6,
   "id": "fdf8fea5",
   "metadata": {},
   "outputs": [
    {
     "name": "stdout",
     "output_type": "stream",
     "text": [
      "<class 'pandas.core.frame.DataFrame'>\n",
      "RangeIndex: 561716 entries, 0 to 561715\n",
      "Data columns (total 3 columns):\n",
      " #   Column  Non-Null Count   Dtype \n",
      "---  ------  --------------   ----- \n",
      " 0   source  561716 non-null  object\n",
      " 1   target  561716 non-null  object\n",
      " 2   type    561716 non-null  object\n",
      "dtypes: object(3)\n",
      "memory usage: 12.9+ MB\n"
     ]
    }
   ],
   "source": [
    "data.info()"
   ]
  },
  {
   "cell_type": "code",
   "execution_count": 7,
   "id": "abbeeb1b",
   "metadata": {},
   "outputs": [
    {
     "data": {
      "text/html": [
       "<div>\n",
       "<style scoped>\n",
       "    .dataframe tbody tr th:only-of-type {\n",
       "        vertical-align: middle;\n",
       "    }\n",
       "\n",
       "    .dataframe tbody tr th {\n",
       "        vertical-align: top;\n",
       "    }\n",
       "\n",
       "    .dataframe thead th {\n",
       "        text-align: right;\n",
       "    }\n",
       "</style>\n",
       "<table border=\"1\" class=\"dataframe\">\n",
       "  <thead>\n",
       "    <tr style=\"text-align: right;\">\n",
       "      <th></th>\n",
       "      <th>source</th>\n",
       "      <th>target</th>\n",
       "      <th>type</th>\n",
       "    </tr>\n",
       "  </thead>\n",
       "  <tbody>\n",
       "    <tr>\n",
       "      <th>count</th>\n",
       "      <td>561716</td>\n",
       "      <td>561716</td>\n",
       "      <td>561716</td>\n",
       "    </tr>\n",
       "    <tr>\n",
       "      <th>unique</th>\n",
       "      <td>16210</td>\n",
       "      <td>18891</td>\n",
       "      <td>9</td>\n",
       "    </tr>\n",
       "    <tr>\n",
       "      <th>top</th>\n",
       "      <td>21711</td>\n",
       "      <td>21711</td>\n",
       "      <td>regulates</td>\n",
       "    </tr>\n",
       "    <tr>\n",
       "      <th>freq</th>\n",
       "      <td>6128</td>\n",
       "      <td>2663</td>\n",
       "      <td>265672</td>\n",
       "    </tr>\n",
       "  </tbody>\n",
       "</table>\n",
       "</div>"
      ],
      "text/plain": [
       "        source  target       type\n",
       "count   561716  561716     561716\n",
       "unique   16210   18891          9\n",
       "top      21711   21711  regulates\n",
       "freq      6128    2663     265672"
      ]
     },
     "execution_count": 7,
     "metadata": {},
     "output_type": "execute_result"
    }
   ],
   "source": [
    "data.describe()"
   ]
  },
  {
   "cell_type": "markdown",
   "id": "a1aacf79",
   "metadata": {},
   "source": [
    "PyKEEN provides the [`from_labeled_triples`](https://pykeen.readthedocs.io/en/stable/api/pykeen.triples.TriplesFactory.html#pykeen.triples.TriplesFactory.from_labeled_triples) method, which constructs a graph from a list of input triples."
   ]
  },
  {
   "cell_type": "code",
   "execution_count": 8,
   "id": "045f9596",
   "metadata": {},
   "outputs": [],
   "source": [
    "tf = TriplesFactory.from_labeled_triples(\n",
    "    data[[\"source\", \"type\", \"target\"]].values, compact_id=False\n",
    ")"
   ]
  },
  {
   "cell_type": "markdown",
   "id": "f424bd14",
   "metadata": {},
   "source": [
    "This example uses a generic Cypher query to fetch data from any Neo4j dataset and construct a PyKEEN graph. The query retrieves the internal Neo4j node IDs to build the triples DataFrame. Since PyKEEN requires all elements in the triples to be strings, the internal IDs are cast to strings. With the PyKEEN graph constructed, the `split` method is used to partition the data into training and testing sets."
   ]
  },
  {
   "cell_type": "code",
   "execution_count": 9,
   "id": "7d77b130",
   "metadata": {},
   "outputs": [
    {
     "name": "stderr",
     "output_type": "stream",
     "text": [
      "using automatically assigned random_state=550345419\n"
     ]
    }
   ],
   "source": [
    "training, testing, validation = tf.split([0.8, 0.1, 0.1])"
   ]
  },
  {
   "cell_type": "markdown",
   "id": "7fcdfcf6",
   "metadata": {},
   "source": [
    "# Train a knowledge graph embedding model\n",
    "\n",
    "With the train-test data prepared, we can proceed to train a knowledge graph embedding model. In this example, we will use the RotatE model. To keep the tutorial simple, no hyperparameter optimization will be performed. The model will be trained for $20$ epochs with an embedding dimension of $128$.\n",
    "\n",
    "It's worth noting that $20$ epochs may be insufficient for meaningful training on large or complex graphs, especially with a high embedding dimensionality. Additionally, applying early stopping in this scenario is unlikely to yield significant improvements due to the limited number of epochs."
   ]
  },
  {
   "cell_type": "code",
   "execution_count": 10,
   "id": "e47868ea",
   "metadata": {},
   "outputs": [
    {
     "data": {
      "application/vnd.jupyter.widget-view+json": {
       "model_id": "48662056a80f4684971394fb63e349e1",
       "version_major": 2,
       "version_minor": 0
      },
      "text/plain": [
       "Training epochs on cuda:0:   0%|          | 0/20 [00:00<?, ?epoch/s]"
      ]
     },
     "metadata": {},
     "output_type": "display_data"
    },
    {
     "data": {
      "application/vnd.jupyter.widget-view+json": {
       "model_id": "70a4303a5b3f48c5ac1f977d19f2b44c",
       "version_major": 2,
       "version_minor": 0
      },
      "text/plain": [
       "Training batches on cuda:0:   0%|          | 0/1756 [00:00<?, ?batch/s]"
      ]
     },
     "metadata": {},
     "output_type": "display_data"
    },
    {
     "data": {
      "application/vnd.jupyter.widget-view+json": {
       "model_id": "f9a6ccfa1d75408597d5dac9138ed36f",
       "version_major": 2,
       "version_minor": 0
      },
      "text/plain": [
       "Training batches on cuda:0:   0%|          | 0/1756 [00:00<?, ?batch/s]"
      ]
     },
     "metadata": {},
     "output_type": "display_data"
    },
    {
     "data": {
      "application/vnd.jupyter.widget-view+json": {
       "model_id": "df2958f1ad114501954536d4e8bec07e",
       "version_major": 2,
       "version_minor": 0
      },
      "text/plain": [
       "Training batches on cuda:0:   0%|          | 0/1756 [00:00<?, ?batch/s]"
      ]
     },
     "metadata": {},
     "output_type": "display_data"
    },
    {
     "data": {
      "application/vnd.jupyter.widget-view+json": {
       "model_id": "5688b4a6cdab47b0b5d3cf48bfb04928",
       "version_major": 2,
       "version_minor": 0
      },
      "text/plain": [
       "Training batches on cuda:0:   0%|          | 0/1756 [00:00<?, ?batch/s]"
      ]
     },
     "metadata": {},
     "output_type": "display_data"
    },
    {
     "data": {
      "application/vnd.jupyter.widget-view+json": {
       "model_id": "2572784d24d14ad7a2ef9a594ecc41a6",
       "version_major": 2,
       "version_minor": 0
      },
      "text/plain": [
       "Training batches on cuda:0:   0%|          | 0/1756 [00:00<?, ?batch/s]"
      ]
     },
     "metadata": {},
     "output_type": "display_data"
    },
    {
     "data": {
      "application/vnd.jupyter.widget-view+json": {
       "model_id": "9492748737b643ee93814a281a992b52",
       "version_major": 2,
       "version_minor": 0
      },
      "text/plain": [
       "Training batches on cuda:0:   0%|          | 0/1756 [00:00<?, ?batch/s]"
      ]
     },
     "metadata": {},
     "output_type": "display_data"
    },
    {
     "data": {
      "application/vnd.jupyter.widget-view+json": {
       "model_id": "e8f34adc9fdb40f7a070fe497844344a",
       "version_major": 2,
       "version_minor": 0
      },
      "text/plain": [
       "Training batches on cuda:0:   0%|          | 0/1756 [00:00<?, ?batch/s]"
      ]
     },
     "metadata": {},
     "output_type": "display_data"
    },
    {
     "data": {
      "application/vnd.jupyter.widget-view+json": {
       "model_id": "304144d8b463485f97a6c0cae8d0c1d8",
       "version_major": 2,
       "version_minor": 0
      },
      "text/plain": [
       "Training batches on cuda:0:   0%|          | 0/1756 [00:00<?, ?batch/s]"
      ]
     },
     "metadata": {},
     "output_type": "display_data"
    },
    {
     "data": {
      "application/vnd.jupyter.widget-view+json": {
       "model_id": "fb0d8cf884e5459ea5eca8cb88b7e29a",
       "version_major": 2,
       "version_minor": 0
      },
      "text/plain": [
       "Training batches on cuda:0:   0%|          | 0/1756 [00:00<?, ?batch/s]"
      ]
     },
     "metadata": {},
     "output_type": "display_data"
    },
    {
     "data": {
      "application/vnd.jupyter.widget-view+json": {
       "model_id": "3c1e8ca6fa8048349cc17eb67950cad5",
       "version_major": 2,
       "version_minor": 0
      },
      "text/plain": [
       "Training batches on cuda:0:   0%|          | 0/1756 [00:00<?, ?batch/s]"
      ]
     },
     "metadata": {},
     "output_type": "display_data"
    },
    {
     "name": "stderr",
     "output_type": "stream",
     "text": [
      "INFO:pykeen.evaluation.evaluator:Evaluation took 626.95s seconds\n",
      "INFO:pykeen.stoppers.early_stopping:New best result at epoch 10: 0.08114218574760117. Saved model weights to C:\\Users\\willf\\.data\\pykeen\\checkpoints\\best-model-weights-aaa35713-58fc-4513-b8c6-590873b47cd0.pt\n",
      "INFO:pykeen.training.training_loop:=> Saved checkpoint after having finished epoch 10.\n"
     ]
    },
    {
     "data": {
      "application/vnd.jupyter.widget-view+json": {
       "model_id": "49a5d26a8d884becaaba7102a6acf9ca",
       "version_major": 2,
       "version_minor": 0
      },
      "text/plain": [
       "Training batches on cuda:0:   0%|          | 0/1756 [00:00<?, ?batch/s]"
      ]
     },
     "metadata": {},
     "output_type": "display_data"
    },
    {
     "data": {
      "application/vnd.jupyter.widget-view+json": {
       "model_id": "9d94d5522c50403aa086773c3af06c4c",
       "version_major": 2,
       "version_minor": 0
      },
      "text/plain": [
       "Training batches on cuda:0:   0%|          | 0/1756 [00:00<?, ?batch/s]"
      ]
     },
     "metadata": {},
     "output_type": "display_data"
    },
    {
     "data": {
      "application/vnd.jupyter.widget-view+json": {
       "model_id": "f8aec8313b974ba8b1325c86f99c1ac8",
       "version_major": 2,
       "version_minor": 0
      },
      "text/plain": [
       "Training batches on cuda:0:   0%|          | 0/1756 [00:00<?, ?batch/s]"
      ]
     },
     "metadata": {},
     "output_type": "display_data"
    },
    {
     "data": {
      "application/vnd.jupyter.widget-view+json": {
       "model_id": "eb648e57f93d4faab6afb1ce9105d25f",
       "version_major": 2,
       "version_minor": 0
      },
      "text/plain": [
       "Training batches on cuda:0:   0%|          | 0/1756 [00:00<?, ?batch/s]"
      ]
     },
     "metadata": {},
     "output_type": "display_data"
    },
    {
     "data": {
      "application/vnd.jupyter.widget-view+json": {
       "model_id": "3df60fab481a4735abbb18ec93a357a3",
       "version_major": 2,
       "version_minor": 0
      },
      "text/plain": [
       "Training batches on cuda:0:   0%|          | 0/1756 [00:00<?, ?batch/s]"
      ]
     },
     "metadata": {},
     "output_type": "display_data"
    },
    {
     "data": {
      "application/vnd.jupyter.widget-view+json": {
       "model_id": "c1bf9d843ae84ba69948d0ed6940ab0e",
       "version_major": 2,
       "version_minor": 0
      },
      "text/plain": [
       "Training batches on cuda:0:   0%|          | 0/1756 [00:00<?, ?batch/s]"
      ]
     },
     "metadata": {},
     "output_type": "display_data"
    },
    {
     "data": {
      "application/vnd.jupyter.widget-view+json": {
       "model_id": "05f25cdad27c478196b867aff313f697",
       "version_major": 2,
       "version_minor": 0
      },
      "text/plain": [
       "Training batches on cuda:0:   0%|          | 0/1756 [00:00<?, ?batch/s]"
      ]
     },
     "metadata": {},
     "output_type": "display_data"
    },
    {
     "data": {
      "application/vnd.jupyter.widget-view+json": {
       "model_id": "5ad80b56309849a68b0d4313afb486a4",
       "version_major": 2,
       "version_minor": 0
      },
      "text/plain": [
       "Training batches on cuda:0:   0%|          | 0/1756 [00:00<?, ?batch/s]"
      ]
     },
     "metadata": {},
     "output_type": "display_data"
    },
    {
     "data": {
      "application/vnd.jupyter.widget-view+json": {
       "model_id": "76ee3e1c64374ff89d7aef3d45b6d811",
       "version_major": 2,
       "version_minor": 0
      },
      "text/plain": [
       "Training batches on cuda:0:   0%|          | 0/1756 [00:00<?, ?batch/s]"
      ]
     },
     "metadata": {},
     "output_type": "display_data"
    },
    {
     "data": {
      "application/vnd.jupyter.widget-view+json": {
       "model_id": "352c67253f55448d8e25ec691e2c8698",
       "version_major": 2,
       "version_minor": 0
      },
      "text/plain": [
       "Training batches on cuda:0:   0%|          | 0/1756 [00:00<?, ?batch/s]"
      ]
     },
     "metadata": {},
     "output_type": "display_data"
    },
    {
     "name": "stderr",
     "output_type": "stream",
     "text": [
      "INFO:pykeen.evaluation.evaluator:Evaluation took 553.07s seconds\n",
      "INFO:pykeen.stoppers.early_stopping:New best result at epoch 20: 0.090960069784416. Saved model weights to C:\\Users\\willf\\.data\\pykeen\\checkpoints\\best-model-weights-aaa35713-58fc-4513-b8c6-590873b47cd0.pt\n",
      "INFO:pykeen.training.training_loop:=> Saved checkpoint after having finished epoch 20.\n"
     ]
    },
    {
     "data": {
      "application/vnd.jupyter.widget-view+json": {
       "model_id": "d2495729689246f3928f46e43fcc40a9",
       "version_major": 2,
       "version_minor": 0
      },
      "text/plain": [
       "Evaluating on cuda:0:   0%|          | 0.00/56.2k [00:00<?, ?triple/s]"
      ]
     },
     "metadata": {},
     "output_type": "display_data"
    },
    {
     "name": "stderr",
     "output_type": "stream",
     "text": [
      "INFO:pykeen.evaluation.evaluator:Evaluation took 538.63s seconds\n"
     ]
    }
   ],
   "source": [
    "result = pipeline(\n",
    "    training=training,\n",
    "    testing=testing,\n",
    "    validation=validation,\n",
    "    model=\"RotatE\",\n",
    "    stopper=\"early\",\n",
    "    epochs=20,\n",
    "    dimensions=128,\n",
    "    random_seed=420,\n",
    ")"
   ]
  },
  {
   "cell_type": "code",
   "execution_count": 11,
   "id": "cf5f607f",
   "metadata": {},
   "outputs": [
    {
     "data": {
      "text/plain": [
       "<Axes: title={'center': 'Losses Plot'}, xlabel='Epoch', ylabel='marginranking Loss'>"
      ]
     },
     "execution_count": 11,
     "metadata": {},
     "output_type": "execute_result"
    },
    {
     "data": {
      "image/png": "[encoded data removed]",
      "text/plain": [
       "<Figure size 640x480 with 1 Axes>"
      ]
     },
     "metadata": {},
     "output_type": "display_data"
    }
   ],
   "source": [
    "result.plot_losses()"
   ]
  },
  {
   "cell_type": "code",
   "execution_count": null,
   "id": "dbdeb0ab",
   "metadata": {},
   "outputs": [],
   "source": [
    "# The result object also contains the evaluation metrics result.metric_results.to_df()\n",
    "\n",
    "# Create an evaluator\n",
    "evaluator = RankBasedEvaluator()\n",
    "\n",
    "# Evaluate the model\n",
    "metrics = evaluator.evaluate(\n",
    "    result.model,\n",
    "    testing.mapped_triples,\n",
    "    additional_filter_triples=[training.mapped_triples, validation.mapped_triples],\n",
    ")"
   ]
  },
  {
   "cell_type": "code",
   "execution_count": 24,
   "id": "fbd71bc2",
   "metadata": {},
   "outputs": [
    {
     "name": "stdout",
     "output_type": "stream",
     "text": [
      "Hits@1: 0.02186142562130599\n",
      "Hits@3: 0.048209072135583564\n",
      "Hits@5: 0.06572669657480595\n",
      "Hits@10: 0.09874136580502742\n",
      "Mean Rank: 1349.611328125\n",
      "Mean Reciprocal Rank: 0.04981667175889015\n"
     ]
    }
   ],
   "source": [
    "# Print the metrics\n",
    "print(f\"Hits@1: {metrics.get_metric('hits@1')}\")\n",
    "print(f\"Hits@3: {metrics.get_metric('hits@3')}\")\n",
    "print(f\"Hits@5: {metrics.get_metric('hits@5')}\")\n",
    "print(f\"Hits@10: {metrics.get_metric('hits@10')}\")\n",
    "print(f\"Mean Rank: {metrics.get_metric('mean_rank')}\")\n",
    "print(f\"Mean Reciprocal Rank: {metrics.get_metric('mean_reciprocal_rank')}\")"
   ]
  },
  {
   "cell_type": "code",
   "execution_count": 11,
   "id": "344f795b",
   "metadata": {},
   "outputs": [
    {
     "name": "stderr",
     "output_type": "stream",
     "text": [
      "INFO:pykeen.pipeline.api:Using device: mps\n"
     ]
    },
    {
     "data": {
      "application/vnd.jupyter.widget-view+json": {
       "model_id": "a8158948b8db49e5a8133667f79ca6d4",
       "version_major": 2,
       "version_minor": 0
      },
      "text/plain": [
       "Training epochs on mps:0:   0%|          | 0/20 [00:00<?, ?epoch/s]"
      ]
     },
     "metadata": {},
     "output_type": "display_data"
    },
    {
     "data": {
      "application/vnd.jupyter.widget-view+json": {
       "model_id": "fe3961a2fbbf4b9e922c6e31fe0a5357",
       "version_major": 2,
       "version_minor": 0
      },
      "text/plain": [
       "Training batches on mps:0:   0%|          | 0/1756 [00:00<?, ?batch/s]"
      ]
     },
     "metadata": {},
     "output_type": "display_data"
    },
    {
     "data": {
      "application/vnd.jupyter.widget-view+json": {
       "model_id": "942461f0147c4ecb894ef07b1f6e17fa",
       "version_major": 2,
       "version_minor": 0
      },
      "text/plain": [
       "Training batches on mps:0:   0%|          | 0/1756 [00:00<?, ?batch/s]"
      ]
     },
     "metadata": {},
     "output_type": "display_data"
    },
    {
     "data": {
      "application/vnd.jupyter.widget-view+json": {
       "model_id": "a3adc5a5a5f44b09afd5d800b4cef7cd",
       "version_major": 2,
       "version_minor": 0
      },
      "text/plain": [
       "Training batches on mps:0:   0%|          | 0/1756 [00:00<?, ?batch/s]"
      ]
     },
     "metadata": {},
     "output_type": "display_data"
    },
    {
     "data": {
      "application/vnd.jupyter.widget-view+json": {
       "model_id": "788b6f9d857c45dfb850e1e768507b7d",
       "version_major": 2,
       "version_minor": 0
      },
      "text/plain": [
       "Training batches on mps:0:   0%|          | 0/1756 [00:00<?, ?batch/s]"
      ]
     },
     "metadata": {},
     "output_type": "display_data"
    },
    {
     "data": {
      "application/vnd.jupyter.widget-view+json": {
       "model_id": "cd4671ab50cb47a18b2f8af2cad4f5e4",
       "version_major": 2,
       "version_minor": 0
      },
      "text/plain": [
       "Training batches on mps:0:   0%|          | 0/1756 [00:00<?, ?batch/s]"
      ]
     },
     "metadata": {},
     "output_type": "display_data"
    },
    {
     "data": {
      "application/vnd.jupyter.widget-view+json": {
       "model_id": "a826ab0f969e4b55b50466a96e8074c1",
       "version_major": 2,
       "version_minor": 0
      },
      "text/plain": [
       "Training batches on mps:0:   0%|          | 0/1756 [00:00<?, ?batch/s]"
      ]
     },
     "metadata": {},
     "output_type": "display_data"
    },
    {
     "data": {
      "application/vnd.jupyter.widget-view+json": {
       "model_id": "fc459ca530724371a7177d64dc855541",
       "version_major": 2,
       "version_minor": 0
      },
      "text/plain": [
       "Training batches on mps:0:   0%|          | 0/1756 [00:00<?, ?batch/s]"
      ]
     },
     "metadata": {},
     "output_type": "display_data"
    },
    {
     "data": {
      "application/vnd.jupyter.widget-view+json": {
       "model_id": "8a514a52d300421ca827c95df9cf01ff",
       "version_major": 2,
       "version_minor": 0
      },
      "text/plain": [
       "Training batches on mps:0:   0%|          | 0/1756 [00:00<?, ?batch/s]"
      ]
     },
     "metadata": {},
     "output_type": "display_data"
    },
    {
     "data": {
      "application/vnd.jupyter.widget-view+json": {
       "model_id": "3562d975b6f744fa85b1f22c3f9c752c",
       "version_major": 2,
       "version_minor": 0
      },
      "text/plain": [
       "Training batches on mps:0:   0%|          | 0/1756 [00:00<?, ?batch/s]"
      ]
     },
     "metadata": {},
     "output_type": "display_data"
    },
    {
     "data": {
      "application/vnd.jupyter.widget-view+json": {
       "model_id": "b9aa0c8688454fc0886543637586401b",
       "version_major": 2,
       "version_minor": 0
      },
      "text/plain": [
       "Training batches on mps:0:   0%|          | 0/1756 [00:00<?, ?batch/s]"
      ]
     },
     "metadata": {},
     "output_type": "display_data"
    },
    {
     "data": {
      "application/vnd.jupyter.widget-view+json": {
       "model_id": "d90f32932ede472ab2046b8740158775",
       "version_major": 2,
       "version_minor": 0
      },
      "text/plain": [
       "Training batches on mps:0:   0%|          | 0/1756 [00:00<?, ?batch/s]"
      ]
     },
     "metadata": {},
     "output_type": "display_data"
    },
    {
     "data": {
      "application/vnd.jupyter.widget-view+json": {
       "model_id": "de3a45d536c8496e9ab62b90c6de5968",
       "version_major": 2,
       "version_minor": 0
      },
      "text/plain": [
       "Training batches on mps:0:   0%|          | 0/1756 [00:00<?, ?batch/s]"
      ]
     },
     "metadata": {},
     "output_type": "display_data"
    },
    {
     "data": {
      "application/vnd.jupyter.widget-view+json": {
       "model_id": "be4cb41e738741fe9d303762cd656f4d",
       "version_major": 2,
       "version_minor": 0
      },
      "text/plain": [
       "Training batches on mps:0:   0%|          | 0/1756 [00:00<?, ?batch/s]"
      ]
     },
     "metadata": {},
     "output_type": "display_data"
    },
    {
     "data": {
      "application/vnd.jupyter.widget-view+json": {
       "model_id": "9e291a50b98b487e98d7d46f6f07db9c",
       "version_major": 2,
       "version_minor": 0
      },
      "text/plain": [
       "Training batches on mps:0:   0%|          | 0/1756 [00:00<?, ?batch/s]"
      ]
     },
     "metadata": {},
     "output_type": "display_data"
    },
    {
     "data": {
      "application/vnd.jupyter.widget-view+json": {
       "model_id": "564cf116bba44992af0b767499ca10f8",
       "version_major": 2,
       "version_minor": 0
      },
      "text/plain": [
       "Training batches on mps:0:   0%|          | 0/1756 [00:00<?, ?batch/s]"
      ]
     },
     "metadata": {},
     "output_type": "display_data"
    },
    {
     "data": {
      "application/vnd.jupyter.widget-view+json": {
       "model_id": "03b5caf60a30428ca8abe376add992a6",
       "version_major": 2,
       "version_minor": 0
      },
      "text/plain": [
       "Training batches on mps:0:   0%|          | 0/1756 [00:00<?, ?batch/s]"
      ]
     },
     "metadata": {},
     "output_type": "display_data"
    },
    {
     "data": {
      "application/vnd.jupyter.widget-view+json": {
       "model_id": "2958c789e1da435d8b9b1585d2a5f4b4",
       "version_major": 2,
       "version_minor": 0
      },
      "text/plain": [
       "Training batches on mps:0:   0%|          | 0/1756 [00:00<?, ?batch/s]"
      ]
     },
     "metadata": {},
     "output_type": "display_data"
    },
    {
     "data": {
      "application/vnd.jupyter.widget-view+json": {
       "model_id": "fd2805f552e446aa9558e64bd56d13c6",
       "version_major": 2,
       "version_minor": 0
      },
      "text/plain": [
       "Training batches on mps:0:   0%|          | 0/1756 [00:00<?, ?batch/s]"
      ]
     },
     "metadata": {},
     "output_type": "display_data"
    },
    {
     "data": {
      "application/vnd.jupyter.widget-view+json": {
       "model_id": "2af3a9cceab0482bb86b4f7a4e93c7d4",
       "version_major": 2,
       "version_minor": 0
      },
      "text/plain": [
       "Training batches on mps:0:   0%|          | 0/1756 [00:00<?, ?batch/s]"
      ]
     },
     "metadata": {},
     "output_type": "display_data"
    },
    {
     "data": {
      "application/vnd.jupyter.widget-view+json": {
       "model_id": "8f50072778734757842e29cfe3eeb35e",
       "version_major": 2,
       "version_minor": 0
      },
      "text/plain": [
       "Training batches on mps:0:   0%|          | 0/1756 [00:00<?, ?batch/s]"
      ]
     },
     "metadata": {},
     "output_type": "display_data"
    },
    {
     "name": "stderr",
     "output_type": "stream",
     "text": [
      "WARNING:pykeen.utils:Using automatic batch size on device.type='mps' can cause unexplained out-of-memory crashes. Therefore, we use a conservative small batch_size=32. Performance may be improved by explicitly specifying a larger batch size.\n"
     ]
    },
    {
     "data": {
      "application/vnd.jupyter.widget-view+json": {
       "model_id": "8b278b922a064bd4aeeb5677d484e90f",
       "version_major": 2,
       "version_minor": 0
      },
      "text/plain": [
       "Evaluating on mps:0:   0%|          | 0.00/56.2k [00:00<?, ?triple/s]"
      ]
     },
     "metadata": {},
     "output_type": "display_data"
    },
    {
     "name": "stderr",
     "output_type": "stream",
     "text": [
      "WARNING:torch_max_mem.api:Encountered tensors on device_types={'mps'} while only ['cuda'] are considered safe for automatic memory utilization maximization. This may lead to undocumented crashes (but can be safe, too).\n",
      "INFO:pykeen.evaluation.evaluator:Evaluation took 113.63s seconds\n",
      "WARNING:pykeen.utils:Using automatic batch size on device.type='mps' can cause unexplained out-of-memory crashes. Therefore, we use a conservative small batch_size=32. Performance may be improved by explicitly specifying a larger batch size.\n"
     ]
    },
    {
     "data": {
      "application/vnd.jupyter.widget-view+json": {
       "model_id": "9de77b4a105e451abc55d97134ce14b3",
       "version_major": 2,
       "version_minor": 0
      },
      "text/plain": [
       "Evaluating on mps:0:   0%|          | 0.00/56.2k [00:00<?, ?triple/s]"
      ]
     },
     "metadata": {},
     "output_type": "display_data"
    },
    {
     "name": "stderr",
     "output_type": "stream",
     "text": [
      "WARNING:torch_max_mem.api:Encountered tensors on device_types={'mps'} while only ['cuda'] are considered safe for automatic memory utilization maximization. This may lead to undocumented crashes (but can be safe, too).\n",
      "INFO:pykeen.evaluation.evaluator:Evaluation took 112.86s seconds\n",
      "INFO:pykeen.pipeline.api:Using device: mps\n"
     ]
    },
    {
     "data": {
      "application/vnd.jupyter.widget-view+json": {
       "model_id": "bdb4ad9a322f4029bd486ea368d17ce7",
       "version_major": 2,
       "version_minor": 0
      },
      "text/plain": [
       "Training epochs on mps:0:   0%|          | 0/20 [00:00<?, ?epoch/s]"
      ]
     },
     "metadata": {},
     "output_type": "display_data"
    },
    {
     "data": {
      "application/vnd.jupyter.widget-view+json": {
       "model_id": "0e28fc12197e4ab0a97f4ad620359a69",
       "version_major": 2,
       "version_minor": 0
      },
      "text/plain": [
       "Training batches on mps:0:   0%|          | 0/1756 [00:00<?, ?batch/s]"
      ]
     },
     "metadata": {},
     "output_type": "display_data"
    },
    {
     "data": {
      "application/vnd.jupyter.widget-view+json": {
       "model_id": "bdf1414c5a9d490697da6df97242f387",
       "version_major": 2,
       "version_minor": 0
      },
      "text/plain": [
       "Training batches on mps:0:   0%|          | 0/1756 [00:00<?, ?batch/s]"
      ]
     },
     "metadata": {},
     "output_type": "display_data"
    },
    {
     "data": {
      "application/vnd.jupyter.widget-view+json": {
       "model_id": "3807416dc68247548490b3ec2a0d8d60",
       "version_major": 2,
       "version_minor": 0
      },
      "text/plain": [
       "Training batches on mps:0:   0%|          | 0/1756 [00:00<?, ?batch/s]"
      ]
     },
     "metadata": {},
     "output_type": "display_data"
    },
    {
     "data": {
      "application/vnd.jupyter.widget-view+json": {
       "model_id": "8e247b18ad854ad9ab5e2ae68af86683",
       "version_major": 2,
       "version_minor": 0
      },
      "text/plain": [
       "Training batches on mps:0:   0%|          | 0/1756 [00:00<?, ?batch/s]"
      ]
     },
     "metadata": {},
     "output_type": "display_data"
    },
    {
     "data": {
      "application/vnd.jupyter.widget-view+json": {
       "model_id": "4494bee4f44d48b399d15005ea8b3533",
       "version_major": 2,
       "version_minor": 0
      },
      "text/plain": [
       "Training batches on mps:0:   0%|          | 0/1756 [00:00<?, ?batch/s]"
      ]
     },
     "metadata": {},
     "output_type": "display_data"
    },
    {
     "data": {
      "application/vnd.jupyter.widget-view+json": {
       "model_id": "8b30d05de0cc4afa93cf9bdc523e64af",
       "version_major": 2,
       "version_minor": 0
      },
      "text/plain": [
       "Training batches on mps:0:   0%|          | 0/1756 [00:00<?, ?batch/s]"
      ]
     },
     "metadata": {},
     "output_type": "display_data"
    },
    {
     "data": {
      "application/vnd.jupyter.widget-view+json": {
       "model_id": "e91c1ed4e4d44a75ac3a6dd94c93b2d5",
       "version_major": 2,
       "version_minor": 0
      },
      "text/plain": [
       "Training batches on mps:0:   0%|          | 0/1756 [00:00<?, ?batch/s]"
      ]
     },
     "metadata": {},
     "output_type": "display_data"
    },
    {
     "data": {
      "application/vnd.jupyter.widget-view+json": {
       "model_id": "2f48ef66792f41c38122bff4dd047bd5",
       "version_major": 2,
       "version_minor": 0
      },
      "text/plain": [
       "Training batches on mps:0:   0%|          | 0/1756 [00:00<?, ?batch/s]"
      ]
     },
     "metadata": {},
     "output_type": "display_data"
    },
    {
     "data": {
      "application/vnd.jupyter.widget-view+json": {
       "model_id": "19c48d9891cb4f16ae37c6651f4cdb61",
       "version_major": 2,
       "version_minor": 0
      },
      "text/plain": [
       "Training batches on mps:0:   0%|          | 0/1756 [00:00<?, ?batch/s]"
      ]
     },
     "metadata": {},
     "output_type": "display_data"
    },
    {
     "data": {
      "application/vnd.jupyter.widget-view+json": {
       "model_id": "ef8222d42d794e2391609deac72a7177",
       "version_major": 2,
       "version_minor": 0
      },
      "text/plain": [
       "Training batches on mps:0:   0%|          | 0/1756 [00:00<?, ?batch/s]"
      ]
     },
     "metadata": {},
     "output_type": "display_data"
    },
    {
     "data": {
      "application/vnd.jupyter.widget-view+json": {
       "model_id": "30399a2053b54defa3d20c0f6f1374b2",
       "version_major": 2,
       "version_minor": 0
      },
      "text/plain": [
       "Training batches on mps:0:   0%|          | 0/1756 [00:00<?, ?batch/s]"
      ]
     },
     "metadata": {},
     "output_type": "display_data"
    },
    {
     "data": {
      "application/vnd.jupyter.widget-view+json": {
       "model_id": "c265ace1e0464c139a60e27af02e8155",
       "version_major": 2,
       "version_minor": 0
      },
      "text/plain": [
       "Training batches on mps:0:   0%|          | 0/1756 [00:00<?, ?batch/s]"
      ]
     },
     "metadata": {},
     "output_type": "display_data"
    },
    {
     "data": {
      "application/vnd.jupyter.widget-view+json": {
       "model_id": "4e2e901b14f340018872aff9650d48b2",
       "version_major": 2,
       "version_minor": 0
      },
      "text/plain": [
       "Training batches on mps:0:   0%|          | 0/1756 [00:00<?, ?batch/s]"
      ]
     },
     "metadata": {},
     "output_type": "display_data"
    },
    {
     "data": {
      "application/vnd.jupyter.widget-view+json": {
       "model_id": "0ce72c5c24224a9595111513efb0406d",
       "version_major": 2,
       "version_minor": 0
      },
      "text/plain": [
       "Training batches on mps:0:   0%|          | 0/1756 [00:00<?, ?batch/s]"
      ]
     },
     "metadata": {},
     "output_type": "display_data"
    },
    {
     "data": {
      "application/vnd.jupyter.widget-view+json": {
       "model_id": "1acceaf204ca470d95f9b0dd76442934",
       "version_major": 2,
       "version_minor": 0
      },
      "text/plain": [
       "Training batches on mps:0:   0%|          | 0/1756 [00:00<?, ?batch/s]"
      ]
     },
     "metadata": {},
     "output_type": "display_data"
    },
    {
     "data": {
      "application/vnd.jupyter.widget-view+json": {
       "model_id": "3e788622d7414e0085f70123799296f1",
       "version_major": 2,
       "version_minor": 0
      },
      "text/plain": [
       "Training batches on mps:0:   0%|          | 0/1756 [00:00<?, ?batch/s]"
      ]
     },
     "metadata": {},
     "output_type": "display_data"
    },
    {
     "data": {
      "application/vnd.jupyter.widget-view+json": {
       "model_id": "b80191881b9245bfb8ea203d4a86dd0d",
       "version_major": 2,
       "version_minor": 0
      },
      "text/plain": [
       "Training batches on mps:0:   0%|          | 0/1756 [00:00<?, ?batch/s]"
      ]
     },
     "metadata": {},
     "output_type": "display_data"
    },
    {
     "data": {
      "application/vnd.jupyter.widget-view+json": {
       "model_id": "f02ba37102564204a507826ef0560c07",
       "version_major": 2,
       "version_minor": 0
      },
      "text/plain": [
       "Training batches on mps:0:   0%|          | 0/1756 [00:00<?, ?batch/s]"
      ]
     },
     "metadata": {},
     "output_type": "display_data"
    },
    {
     "data": {
      "application/vnd.jupyter.widget-view+json": {
       "model_id": "274748cf28dc43b29ece899cfcbacb54",
       "version_major": 2,
       "version_minor": 0
      },
      "text/plain": [
       "Training batches on mps:0:   0%|          | 0/1756 [00:00<?, ?batch/s]"
      ]
     },
     "metadata": {},
     "output_type": "display_data"
    },
    {
     "data": {
      "application/vnd.jupyter.widget-view+json": {
       "model_id": "71b646c6113943748047dcafadf7134a",
       "version_major": 2,
       "version_minor": 0
      },
      "text/plain": [
       "Training batches on mps:0:   0%|          | 0/1756 [00:00<?, ?batch/s]"
      ]
     },
     "metadata": {},
     "output_type": "display_data"
    },
    {
     "name": "stderr",
     "output_type": "stream",
     "text": [
      "WARNING:pykeen.utils:Using automatic batch size on device.type='mps' can cause unexplained out-of-memory crashes. Therefore, we use a conservative small batch_size=32. Performance may be improved by explicitly specifying a larger batch size.\n"
     ]
    },
    {
     "data": {
      "application/vnd.jupyter.widget-view+json": {
       "model_id": "2242a6c844b4492b8d0888583fd18c94",
       "version_major": 2,
       "version_minor": 0
      },
      "text/plain": [
       "Evaluating on mps:0:   0%|          | 0.00/56.2k [00:00<?, ?triple/s]"
      ]
     },
     "metadata": {},
     "output_type": "display_data"
    },
    {
     "name": "stderr",
     "output_type": "stream",
     "text": [
      "WARNING:torch_max_mem.api:Encountered tensors on device_types={'mps'} while only ['cuda'] are considered safe for automatic memory utilization maximization. This may lead to undocumented crashes (but can be safe, too).\n",
      "INFO:pykeen.evaluation.evaluator:Evaluation took 141.96s seconds\n",
      "WARNING:pykeen.utils:Using automatic batch size on device.type='mps' can cause unexplained out-of-memory crashes. Therefore, we use a conservative small batch_size=32. Performance may be improved by explicitly specifying a larger batch size.\n"
     ]
    },
    {
     "data": {
      "application/vnd.jupyter.widget-view+json": {
       "model_id": "f3308ce214f047ce8ffd67c7ddc7365a",
       "version_major": 2,
       "version_minor": 0
      },
      "text/plain": [
       "Evaluating on mps:0:   0%|          | 0.00/56.2k [00:00<?, ?triple/s]"
      ]
     },
     "metadata": {},
     "output_type": "display_data"
    },
    {
     "name": "stderr",
     "output_type": "stream",
     "text": [
      "WARNING:torch_max_mem.api:Encountered tensors on device_types={'mps'} while only ['cuda'] are considered safe for automatic memory utilization maximization. This may lead to undocumented crashes (but can be safe, too).\n",
      "INFO:pykeen.evaluation.evaluator:Evaluation took 155.59s seconds\n",
      "INFO:pykeen.pipeline.api:Using device: mps\n"
     ]
    },
    {
     "data": {
      "application/vnd.jupyter.widget-view+json": {
       "model_id": "d6209d0fb0ed4089a4407e0594991d61",
       "version_major": 2,
       "version_minor": 0
      },
      "text/plain": [
       "Training epochs on mps:0:   0%|          | 0/20 [00:00<?, ?epoch/s]"
      ]
     },
     "metadata": {},
     "output_type": "display_data"
    },
    {
     "data": {
      "application/vnd.jupyter.widget-view+json": {
       "model_id": "bebcd2c3a1ba49bd98192945dc1654e1",
       "version_major": 2,
       "version_minor": 0
      },
      "text/plain": [
       "Training batches on mps:0:   0%|          | 0/1756 [00:00<?, ?batch/s]"
      ]
     },
     "metadata": {},
     "output_type": "display_data"
    },
    {
     "data": {
      "application/vnd.jupyter.widget-view+json": {
       "model_id": "30b75c76469842e9902ef80baa142e2e",
       "version_major": 2,
       "version_minor": 0
      },
      "text/plain": [
       "Training batches on mps:0:   0%|          | 0/1756 [00:00<?, ?batch/s]"
      ]
     },
     "metadata": {},
     "output_type": "display_data"
    },
    {
     "data": {
      "application/vnd.jupyter.widget-view+json": {
       "model_id": "9bf7d350696541abbe61de148819d8bf",
       "version_major": 2,
       "version_minor": 0
      },
      "text/plain": [
       "Training batches on mps:0:   0%|          | 0/1756 [00:00<?, ?batch/s]"
      ]
     },
     "metadata": {},
     "output_type": "display_data"
    },
    {
     "data": {
      "application/vnd.jupyter.widget-view+json": {
       "model_id": "e5a09b65b78046889a69961e249e8ea9",
       "version_major": 2,
       "version_minor": 0
      },
      "text/plain": [
       "Training batches on mps:0:   0%|          | 0/1756 [00:00<?, ?batch/s]"
      ]
     },
     "metadata": {},
     "output_type": "display_data"
    },
    {
     "data": {
      "application/vnd.jupyter.widget-view+json": {
       "model_id": "91baf872f2de4312a07d4b51249bedd8",
       "version_major": 2,
       "version_minor": 0
      },
      "text/plain": [
       "Training batches on mps:0:   0%|          | 0/1756 [00:00<?, ?batch/s]"
      ]
     },
     "metadata": {},
     "output_type": "display_data"
    },
    {
     "data": {
      "application/vnd.jupyter.widget-view+json": {
       "model_id": "10e73c46c8514a2d9feb6d9501bcb430",
       "version_major": 2,
       "version_minor": 0
      },
      "text/plain": [
       "Training batches on mps:0:   0%|          | 0/1756 [00:00<?, ?batch/s]"
      ]
     },
     "metadata": {},
     "output_type": "display_data"
    },
    {
     "data": {
      "application/vnd.jupyter.widget-view+json": {
       "model_id": "23ac7a7565a24441871965b55aa06412",
       "version_major": 2,
       "version_minor": 0
      },
      "text/plain": [
       "Training batches on mps:0:   0%|          | 0/1756 [00:00<?, ?batch/s]"
      ]
     },
     "metadata": {},
     "output_type": "display_data"
    },
    {
     "data": {
      "application/vnd.jupyter.widget-view+json": {
       "model_id": "bf954aa6ed4444a9a7f49558b60be39f",
       "version_major": 2,
       "version_minor": 0
      },
      "text/plain": [
       "Training batches on mps:0:   0%|          | 0/1756 [00:00<?, ?batch/s]"
      ]
     },
     "metadata": {},
     "output_type": "display_data"
    },
    {
     "data": {
      "application/vnd.jupyter.widget-view+json": {
       "model_id": "528b38c5942242af8b534a0f08500cfc",
       "version_major": 2,
       "version_minor": 0
      },
      "text/plain": [
       "Training batches on mps:0:   0%|          | 0/1756 [00:00<?, ?batch/s]"
      ]
     },
     "metadata": {},
     "output_type": "display_data"
    },
    {
     "data": {
      "application/vnd.jupyter.widget-view+json": {
       "model_id": "6e30a8d29b004a3b998f4630e6419c80",
       "version_major": 2,
       "version_minor": 0
      },
      "text/plain": [
       "Training batches on mps:0:   0%|          | 0/1756 [00:00<?, ?batch/s]"
      ]
     },
     "metadata": {},
     "output_type": "display_data"
    },
    {
     "data": {
      "application/vnd.jupyter.widget-view+json": {
       "model_id": "5cd7707a0d0e4800816fc34f57437ecb",
       "version_major": 2,
       "version_minor": 0
      },
      "text/plain": [
       "Training batches on mps:0:   0%|          | 0/1756 [00:00<?, ?batch/s]"
      ]
     },
     "metadata": {},
     "output_type": "display_data"
    },
    {
     "data": {
      "application/vnd.jupyter.widget-view+json": {
       "model_id": "b051e60a93ff4444b33a83ddbca479b6",
       "version_major": 2,
       "version_minor": 0
      },
      "text/plain": [
       "Training batches on mps:0:   0%|          | 0/1756 [00:00<?, ?batch/s]"
      ]
     },
     "metadata": {},
     "output_type": "display_data"
    },
    {
     "data": {
      "application/vnd.jupyter.widget-view+json": {
       "model_id": "2384f9425f074cdc8890f10b982d7028",
       "version_major": 2,
       "version_minor": 0
      },
      "text/plain": [
       "Training batches on mps:0:   0%|          | 0/1756 [00:00<?, ?batch/s]"
      ]
     },
     "metadata": {},
     "output_type": "display_data"
    },
    {
     "data": {
      "application/vnd.jupyter.widget-view+json": {
       "model_id": "2d30b889e3be4523a0f1dc3ac900b0ff",
       "version_major": 2,
       "version_minor": 0
      },
      "text/plain": [
       "Training batches on mps:0:   0%|          | 0/1756 [00:00<?, ?batch/s]"
      ]
     },
     "metadata": {},
     "output_type": "display_data"
    },
    {
     "data": {
      "application/vnd.jupyter.widget-view+json": {
       "model_id": "e437dff748f94a12affa982a0edc4d42",
       "version_major": 2,
       "version_minor": 0
      },
      "text/plain": [
       "Training batches on mps:0:   0%|          | 0/1756 [00:00<?, ?batch/s]"
      ]
     },
     "metadata": {},
     "output_type": "display_data"
    },
    {
     "data": {
      "application/vnd.jupyter.widget-view+json": {
       "model_id": "9875c4121eb740be90c88d0810187f66",
       "version_major": 2,
       "version_minor": 0
      },
      "text/plain": [
       "Training batches on mps:0:   0%|          | 0/1756 [00:00<?, ?batch/s]"
      ]
     },
     "metadata": {},
     "output_type": "display_data"
    },
    {
     "data": {
      "application/vnd.jupyter.widget-view+json": {
       "model_id": "0527eda5787a4ce2a8abe6794743acd1",
       "version_major": 2,
       "version_minor": 0
      },
      "text/plain": [
       "Training batches on mps:0:   0%|          | 0/1756 [00:00<?, ?batch/s]"
      ]
     },
     "metadata": {},
     "output_type": "display_data"
    },
    {
     "data": {
      "application/vnd.jupyter.widget-view+json": {
       "model_id": "51ddb8f50dd140ad91c9811552984427",
       "version_major": 2,
       "version_minor": 0
      },
      "text/plain": [
       "Training batches on mps:0:   0%|          | 0/1756 [00:00<?, ?batch/s]"
      ]
     },
     "metadata": {},
     "output_type": "display_data"
    },
    {
     "data": {
      "application/vnd.jupyter.widget-view+json": {
       "model_id": "5486e78fb135405f9504c8991ffd1dd0",
       "version_major": 2,
       "version_minor": 0
      },
      "text/plain": [
       "Training batches on mps:0:   0%|          | 0/1756 [00:00<?, ?batch/s]"
      ]
     },
     "metadata": {},
     "output_type": "display_data"
    },
    {
     "data": {
      "application/vnd.jupyter.widget-view+json": {
       "model_id": "1f1730c72bba47a2924c29767f5861fd",
       "version_major": 2,
       "version_minor": 0
      },
      "text/plain": [
       "Training batches on mps:0:   0%|          | 0/1756 [00:00<?, ?batch/s]"
      ]
     },
     "metadata": {},
     "output_type": "display_data"
    },
    {
     "name": "stderr",
     "output_type": "stream",
     "text": [
      "WARNING:pykeen.utils:Using automatic batch size on device.type='mps' can cause unexplained out-of-memory crashes. Therefore, we use a conservative small batch_size=32. Performance may be improved by explicitly specifying a larger batch size.\n"
     ]
    },
    {
     "data": {
      "application/vnd.jupyter.widget-view+json": {
       "model_id": "44a49b2e2bf54af19383e0354ee7ebac",
       "version_major": 2,
       "version_minor": 0
      },
      "text/plain": [
       "Evaluating on mps:0:   0%|          | 0.00/56.2k [00:00<?, ?triple/s]"
      ]
     },
     "metadata": {},
     "output_type": "display_data"
    },
    {
     "name": "stderr",
     "output_type": "stream",
     "text": [
      "WARNING:torch_max_mem.api:Encountered tensors on device_types={'mps'} while only ['cuda'] are considered safe for automatic memory utilization maximization. This may lead to undocumented crashes (but can be safe, too).\n",
      "INFO:pykeen.evaluation.evaluator:Evaluation took 227.81s seconds\n",
      "WARNING:pykeen.utils:Using automatic batch size on device.type='mps' can cause unexplained out-of-memory crashes. Therefore, we use a conservative small batch_size=32. Performance may be improved by explicitly specifying a larger batch size.\n"
     ]
    },
    {
     "data": {
      "application/vnd.jupyter.widget-view+json": {
       "model_id": "e5af64b45d584e9c99c33bb979df5637",
       "version_major": 2,
       "version_minor": 0
      },
      "text/plain": [
       "Evaluating on mps:0:   0%|          | 0.00/56.2k [00:00<?, ?triple/s]"
      ]
     },
     "metadata": {},
     "output_type": "display_data"
    },
    {
     "name": "stderr",
     "output_type": "stream",
     "text": [
      "WARNING:torch_max_mem.api:Encountered tensors on device_types={'mps'} while only ['cuda'] are considered safe for automatic memory utilization maximization. This may lead to undocumented crashes (but can be safe, too).\n",
      "INFO:pykeen.evaluation.evaluator:Evaluation took 222.60s seconds\n",
      "INFO:pykeen.pipeline.api:Using device: mps\n"
     ]
    },
    {
     "data": {
      "application/vnd.jupyter.widget-view+json": {
       "model_id": "88932944778f4fd58e9ca0c17aa9e15c",
       "version_major": 2,
       "version_minor": 0
      },
      "text/plain": [
       "Training epochs on mps:0:   0%|          | 0/20 [00:00<?, ?epoch/s]"
      ]
     },
     "metadata": {},
     "output_type": "display_data"
    },
    {
     "data": {
      "application/vnd.jupyter.widget-view+json": {
       "model_id": "41a8d580557848b986f57d2622a08ee1",
       "version_major": 2,
       "version_minor": 0
      },
      "text/plain": [
       "Training batches on mps:0:   0%|          | 0/1756 [00:00<?, ?batch/s]"
      ]
     },
     "metadata": {},
     "output_type": "display_data"
    },
    {
     "data": {
      "application/vnd.jupyter.widget-view+json": {
       "model_id": "19b775114b054203ae8133737459cb87",
       "version_major": 2,
       "version_minor": 0
      },
      "text/plain": [
       "Training batches on mps:0:   0%|          | 0/1756 [00:00<?, ?batch/s]"
      ]
     },
     "metadata": {},
     "output_type": "display_data"
    },
    {
     "data": {
      "application/vnd.jupyter.widget-view+json": {
       "model_id": "9afcfa6d4c414cc7a40d3fcc224e471c",
       "version_major": 2,
       "version_minor": 0
      },
      "text/plain": [
       "Training batches on mps:0:   0%|          | 0/1756 [00:00<?, ?batch/s]"
      ]
     },
     "metadata": {},
     "output_type": "display_data"
    },
    {
     "data": {
      "application/vnd.jupyter.widget-view+json": {
       "model_id": "7471b76811ac4dc096862f80ee4c7074",
       "version_major": 2,
       "version_minor": 0
      },
      "text/plain": [
       "Training batches on mps:0:   0%|          | 0/1756 [00:00<?, ?batch/s]"
      ]
     },
     "metadata": {},
     "output_type": "display_data"
    },
    {
     "data": {
      "application/vnd.jupyter.widget-view+json": {
       "model_id": "ff8539a3b2bc4fd8b9024c177d27df27",
       "version_major": 2,
       "version_minor": 0
      },
      "text/plain": [
       "Training batches on mps:0:   0%|          | 0/1756 [00:00<?, ?batch/s]"
      ]
     },
     "metadata": {},
     "output_type": "display_data"
    },
    {
     "data": {
      "application/vnd.jupyter.widget-view+json": {
       "model_id": "d9e3205a38f24f1a915d8970eef156b2",
       "version_major": 2,
       "version_minor": 0
      },
      "text/plain": [
       "Training batches on mps:0:   0%|          | 0/1756 [00:00<?, ?batch/s]"
      ]
     },
     "metadata": {},
     "output_type": "display_data"
    },
    {
     "data": {
      "application/vnd.jupyter.widget-view+json": {
       "model_id": "39865f22a0674741845828b1b7181242",
       "version_major": 2,
       "version_minor": 0
      },
      "text/plain": [
       "Training batches on mps:0:   0%|          | 0/1756 [00:00<?, ?batch/s]"
      ]
     },
     "metadata": {},
     "output_type": "display_data"
    },
    {
     "data": {
      "application/vnd.jupyter.widget-view+json": {
       "model_id": "fbe16f1972f5430dad304c64ee27a104",
       "version_major": 2,
       "version_minor": 0
      },
      "text/plain": [
       "Training batches on mps:0:   0%|          | 0/1756 [00:00<?, ?batch/s]"
      ]
     },
     "metadata": {},
     "output_type": "display_data"
    },
    {
     "data": {
      "application/vnd.jupyter.widget-view+json": {
       "model_id": "1293527751b5481eaf438bf551f630ac",
       "version_major": 2,
       "version_minor": 0
      },
      "text/plain": [
       "Training batches on mps:0:   0%|          | 0/1756 [00:00<?, ?batch/s]"
      ]
     },
     "metadata": {},
     "output_type": "display_data"
    },
    {
     "data": {
      "application/vnd.jupyter.widget-view+json": {
       "model_id": "13d455706e3543cbadc57222104b0b73",
       "version_major": 2,
       "version_minor": 0
      },
      "text/plain": [
       "Training batches on mps:0:   0%|          | 0/1756 [00:00<?, ?batch/s]"
      ]
     },
     "metadata": {},
     "output_type": "display_data"
    },
    {
     "data": {
      "application/vnd.jupyter.widget-view+json": {
       "model_id": "aed65d15ae2845b7a4a065d70a89c572",
       "version_major": 2,
       "version_minor": 0
      },
      "text/plain": [
       "Training batches on mps:0:   0%|          | 0/1756 [00:00<?, ?batch/s]"
      ]
     },
     "metadata": {},
     "output_type": "display_data"
    },
    {
     "data": {
      "application/vnd.jupyter.widget-view+json": {
       "model_id": "a08fdde0f6af4c089f38b662be59beae",
       "version_major": 2,
       "version_minor": 0
      },
      "text/plain": [
       "Training batches on mps:0:   0%|          | 0/1756 [00:00<?, ?batch/s]"
      ]
     },
     "metadata": {},
     "output_type": "display_data"
    },
    {
     "data": {
      "application/vnd.jupyter.widget-view+json": {
       "model_id": "f871857fc19a4cd6aa3f4fed869df51f",
       "version_major": 2,
       "version_minor": 0
      },
      "text/plain": [
       "Training batches on mps:0:   0%|          | 0/1756 [00:00<?, ?batch/s]"
      ]
     },
     "metadata": {},
     "output_type": "display_data"
    },
    {
     "data": {
      "application/vnd.jupyter.widget-view+json": {
       "model_id": "df2e081d2d5d454992e382bbdc6f0aa1",
       "version_major": 2,
       "version_minor": 0
      },
      "text/plain": [
       "Training batches on mps:0:   0%|          | 0/1756 [00:00<?, ?batch/s]"
      ]
     },
     "metadata": {},
     "output_type": "display_data"
    },
    {
     "data": {
      "application/vnd.jupyter.widget-view+json": {
       "model_id": "187c003ad5db42138e8b482cd4f18431",
       "version_major": 2,
       "version_minor": 0
      },
      "text/plain": [
       "Training batches on mps:0:   0%|          | 0/1756 [00:00<?, ?batch/s]"
      ]
     },
     "metadata": {},
     "output_type": "display_data"
    },
    {
     "data": {
      "application/vnd.jupyter.widget-view+json": {
       "model_id": "77a9899fc3904a5a96b14e1669e62215",
       "version_major": 2,
       "version_minor": 0
      },
      "text/plain": [
       "Training batches on mps:0:   0%|          | 0/1756 [00:00<?, ?batch/s]"
      ]
     },
     "metadata": {},
     "output_type": "display_data"
    },
    {
     "data": {
      "application/vnd.jupyter.widget-view+json": {
       "model_id": "2bc2a5be5e514474a7d0edb6c5a15499",
       "version_major": 2,
       "version_minor": 0
      },
      "text/plain": [
       "Training batches on mps:0:   0%|          | 0/1756 [00:00<?, ?batch/s]"
      ]
     },
     "metadata": {},
     "output_type": "display_data"
    },
    {
     "data": {
      "application/vnd.jupyter.widget-view+json": {
       "model_id": "00a97221a2a044ffa1ed04cbf3e02dba",
       "version_major": 2,
       "version_minor": 0
      },
      "text/plain": [
       "Training batches on mps:0:   0%|          | 0/1756 [00:00<?, ?batch/s]"
      ]
     },
     "metadata": {},
     "output_type": "display_data"
    },
    {
     "data": {
      "application/vnd.jupyter.widget-view+json": {
       "model_id": "d09f9555ee1d4b2c8b93e1324527a891",
       "version_major": 2,
       "version_minor": 0
      },
      "text/plain": [
       "Training batches on mps:0:   0%|          | 0/1756 [00:00<?, ?batch/s]"
      ]
     },
     "metadata": {},
     "output_type": "display_data"
    },
    {
     "data": {
      "application/vnd.jupyter.widget-view+json": {
       "model_id": "c3ef9844b1844c3e9490acfc6dad278f",
       "version_major": 2,
       "version_minor": 0
      },
      "text/plain": [
       "Training batches on mps:0:   0%|          | 0/1756 [00:00<?, ?batch/s]"
      ]
     },
     "metadata": {},
     "output_type": "display_data"
    },
    {
     "name": "stderr",
     "output_type": "stream",
     "text": [
      "WARNING:pykeen.utils:Using automatic batch size on device.type='mps' can cause unexplained out-of-memory crashes. Therefore, we use a conservative small batch_size=32. Performance may be improved by explicitly specifying a larger batch size.\n"
     ]
    },
    {
     "data": {
      "application/vnd.jupyter.widget-view+json": {
       "model_id": "122b540b64a54e489d2e40279374f786",
       "version_major": 2,
       "version_minor": 0
      },
      "text/plain": [
       "Evaluating on mps:0:   0%|          | 0.00/56.2k [00:00<?, ?triple/s]"
      ]
     },
     "metadata": {},
     "output_type": "display_data"
    },
    {
     "name": "stderr",
     "output_type": "stream",
     "text": [
      "WARNING:torch_max_mem.api:Encountered tensors on device_types={'mps'} while only ['cuda'] are considered safe for automatic memory utilization maximization. This may lead to undocumented crashes (but can be safe, too).\n",
      "INFO:pykeen.evaluation.evaluator:Evaluation took 275.78s seconds\n",
      "WARNING:pykeen.utils:Using automatic batch size on device.type='mps' can cause unexplained out-of-memory crashes. Therefore, we use a conservative small batch_size=32. Performance may be improved by explicitly specifying a larger batch size.\n"
     ]
    },
    {
     "data": {
      "application/vnd.jupyter.widget-view+json": {
       "model_id": "2fea6e042b484b1193e37e614d489550",
       "version_major": 2,
       "version_minor": 0
      },
      "text/plain": [
       "Evaluating on mps:0:   0%|          | 0.00/56.2k [00:00<?, ?triple/s]"
      ]
     },
     "metadata": {},
     "output_type": "display_data"
    },
    {
     "name": "stderr",
     "output_type": "stream",
     "text": [
      "WARNING:torch_max_mem.api:Encountered tensors on device_types={'mps'} while only ['cuda'] are considered safe for automatic memory utilization maximization. This may lead to undocumented crashes (but can be safe, too).\n",
      "INFO:pykeen.evaluation.evaluator:Evaluation took 266.70s seconds\n"
     ]
    },
    {
     "data": {
      "image/png": "[encoded data removed]",
      "text/plain": [
       "<Figure size 640x480 with 1 Axes>"
      ]
     },
     "metadata": {},
     "output_type": "display_data"
    }
   ],
   "source": [
    "models = [\n",
    "    \"TransE\", \n",
    "    \"TransH\",\n",
    "    \"TransR\",\n",
    "    \"TransD\"]\n",
    "    # \"ComplEx\", \n",
    "    # \"DistMult\",\n",
    "    # \"ConvE\",\n",
    "    # \"ConvKB\",\n",
    "    # \"HolE\",\n",
    "    # \"RESCAL\",\n",
    "    # \"TuckER\"]\n",
    "\n",
    "evaluator = RankBasedEvaluator()\n",
    "\n",
    "results = {}\n",
    "\n",
    "for model in models:\n",
    "    result = pipeline(\n",
    "        training=training,\n",
    "        testing=testing,\n",
    "        validation=validation,\n",
    "        model=model,\n",
    "        # stopper=\"early\",\n",
    "        epochs=20,\n",
    "        dimensions=128,\n",
    "        random_seed=420,\n",
    "        device=\"mps\", # Mac GPU only, otherwise please comment this line\n",
    "    )\n",
    "\n",
    "    result.plot_losses()\n",
    "\n",
    "    metrics = evaluator.evaluate(\n",
    "        result.model,\n",
    "        testing.mapped_triples,\n",
    "        additional_filter_triples=[training.mapped_triples, validation.mapped_triples],\n",
    "    )\n",
    "\n",
    "    results[model] = {\n",
    "        \"hits@1\": metrics.get_metric('hits@1'),\n",
    "        \"hits@3\": metrics.get_metric('hits@3'),\n",
    "        \"hits@5\": metrics.get_metric('hits@5'),\n",
    "        \"hits@10\": metrics.get_metric('hits@10'),\n",
    "        \"mean_rank\": metrics.get_metric('mean_rank'),\n",
    "        \"mean_reciprocal_rank\": metrics.get_metric('mean_reciprocal_rank')\n",
    "    }"
   ]
  },
  {
   "cell_type": "code",
   "execution_count": null,
   "id": "e8f501bc",
   "metadata": {},
   "outputs": [],
   "source": [
    "    print(f\"Model: {model}\")\n",
    "    print(f\"Hits@1: {metrics.get_metric('hits@1')}\")\n",
    "    print(f\"Hits@3: {metrics.get_metric('hits@3')}\")\n",
    "    print(f\"Hits@5: {metrics.get_metric('hits@5')}\")\n",
    "    print(f\"Hits@10: {metrics.get_metric('hits@10')}\")\n",
    "    print(f\"Mean Rank: {metrics.get_metric('mean_rank')}\")\n",
    "    print(f\"Mean Reciprocal Rank: {metrics.get_metric('mean_reciprocal_rank')}\")"
   ]
  },
  {
   "cell_type": "markdown",
   "id": "b01aecd6",
   "metadata": {},
   "source": [
    "# Multi-class link prediction\n",
    "\n",
    "The PyKEEN library provides several approaches for multi-class link prediction. These approaches enable the identification of the top-K predicted links within the network or allow for more targeted predictions by specifying a particular head node and relationship type to evaluate potential novel connections.\n",
    "\n",
    "In this example, the objective is to predict new treats relationships associated with the compound L-Asparagine. As the graph mapping utilizes internal Neo4j node IDs, it is necessary to first query the database to obtain the corresponding node ID for L-Asparagine. This ID is subsequently used as input for the prediction method to generate relevant link predictions."
   ]
  },
  {
   "cell_type": "code",
   "execution_count": 13,
   "id": "b052939f",
   "metadata": {},
   "outputs": [],
   "source": [
    "compound_id = run_query(\n",
    "    \"\"\"\n",
    "    MATCH (s:Compound)\n",
    "    WHERE s.name = $compound\n",
    "    RETURN toString(id(s)) as id\n",
    "    \"\"\",\n",
    "    {\"compound\": \"L-Asparagine\"}\n",
    ")[\"id\"][0]"
   ]
  },
  {
   "cell_type": "code",
   "execution_count": 14,
   "id": "3f870831",
   "metadata": {},
   "outputs": [
    {
     "name": "stdout",
     "output_type": "stream",
     "text": [
      "       tail_id     score tail_label  in_training  in_testing  in_validation\n",
      "11608    11608 -6.673731      21874        False       False          False\n",
      "11449    11449 -6.775368      21711        False       False          False\n",
      "9935      9935 -6.808600      20171        False       False          False\n",
      "1049      1049 -6.870762      11084        False       False          False\n",
      "12366    12366 -6.917517       2267        False       False          False\n"
     ]
    }
   ],
   "source": [
    "df = (\n",
    "    predict.predict_target(\n",
    "        result.model,\n",
    "        head=compound_id,\n",
    "        relation=\"treats\",\n",
    "        triples_factory=result.training,\n",
    "    )\n",
    "    .add_membership_columns(training=training, testing=testing, validation=validation)\n",
    "    .df\n",
    ")\n",
    "\n",
    "print(df.head(5))"
   ]
  },
  {
   "cell_type": "markdown",
   "id": "b94d0907",
   "metadata": {},
   "source": [
    "# Store predictions to Neo4j\n",
    "\n",
    "For easier evaluation of the results, we will store the top five predictions back to Neo4j.\n"
   ]
  },
  {
   "cell_type": "code",
   "execution_count": 15,
   "id": "884f5126",
   "metadata": {},
   "outputs": [
    {
     "data": {
      "text/html": [
       "<div>\n",
       "<style scoped>\n",
       "    .dataframe tbody tr th:only-of-type {\n",
       "        vertical-align: middle;\n",
       "    }\n",
       "\n",
       "    .dataframe tbody tr th {\n",
       "        vertical-align: top;\n",
       "    }\n",
       "\n",
       "    .dataframe thead th {\n",
       "        text-align: right;\n",
       "    }\n",
       "</style>\n",
       "<table border=\"1\" class=\"dataframe\">\n",
       "  <thead>\n",
       "    <tr style=\"text-align: right;\">\n",
       "      <th></th>\n",
       "    </tr>\n",
       "  </thead>\n",
       "  <tbody>\n",
       "  </tbody>\n",
       "</table>\n",
       "</div>"
      ],
      "text/plain": [
       "Empty DataFrame\n",
       "Columns: []\n",
       "Index: []"
      ]
     },
     "execution_count": 15,
     "metadata": {},
     "output_type": "execute_result"
    }
   ],
   "source": [
    "# Clear previous results if any\n",
    "run_query(\n",
    "    \"\"\"\n",
    "    MATCH (n)-[r:PREDICTED_TREATS]->(c)\n",
    "    WHERE id(n) = toInteger($compound_id)\n",
    "    DELETE r\n",
    "    \"\"\",\n",
    "    {\"compound_id\": compound_id},\n",
    ")"
   ]
  },
  {
   "cell_type": "code",
   "execution_count": 16,
   "id": "cb6e1fc5",
   "metadata": {},
   "outputs": [
    {
     "data": {
      "text/html": [
       "<div>\n",
       "<style scoped>\n",
       "    .dataframe tbody tr th:only-of-type {\n",
       "        vertical-align: middle;\n",
       "    }\n",
       "\n",
       "    .dataframe tbody tr th {\n",
       "        vertical-align: top;\n",
       "    }\n",
       "\n",
       "    .dataframe thead th {\n",
       "        text-align: right;\n",
       "    }\n",
       "</style>\n",
       "<table border=\"1\" class=\"dataframe\">\n",
       "  <thead>\n",
       "    <tr style=\"text-align: right;\">\n",
       "      <th></th>\n",
       "    </tr>\n",
       "  </thead>\n",
       "  <tbody>\n",
       "  </tbody>\n",
       "</table>\n",
       "</div>"
      ],
      "text/plain": [
       "Empty DataFrame\n",
       "Columns: []\n",
       "Index: []"
      ]
     },
     "execution_count": 16,
     "metadata": {},
     "output_type": "execute_result"
    }
   ],
   "source": [
    "candidate_nodes = df[df[\"in_training\"] == False].head(5)[\"tail_label\"].to_list()\n",
    "\n",
    "run_query(\n",
    "    \"\"\"\n",
    "    MATCH (n)\n",
    "    WHERE id(n) = toInteger($compound_id)\n",
    "    UNWIND $candidates as ca\n",
    "    MATCH (c)\n",
    "    WHERE id(c) = toInteger(ca)\n",
    "    MERGE (n)-[:PREDICTED_TREATS]->(c)\n",
    "    \"\"\",\n",
    "    {\"compound_id\": compound_id, \"candidates\": candidate_nodes},\n",
    ")"
   ]
  },
  {
   "cell_type": "markdown",
   "id": "53963721",
   "metadata": {},
   "source": [
    "# Inspect results\n"
   ]
  },
  {
   "cell_type": "code",
   "execution_count": 17,
   "id": "1bee3736",
   "metadata": {},
   "outputs": [
    {
     "data": {
      "text/html": [
       "<div>\n",
       "<style scoped>\n",
       "    .dataframe tbody tr th:only-of-type {\n",
       "        vertical-align: middle;\n",
       "    }\n",
       "\n",
       "    .dataframe tbody tr th {\n",
       "        vertical-align: top;\n",
       "    }\n",
       "\n",
       "    .dataframe thead th {\n",
       "        text-align: right;\n",
       "    }\n",
       "</style>\n",
       "<table border=\"1\" class=\"dataframe\">\n",
       "  <thead>\n",
       "    <tr style=\"text-align: right;\">\n",
       "      <th></th>\n",
       "      <th>compound</th>\n",
       "      <th>disease</th>\n",
       "    </tr>\n",
       "  </thead>\n",
       "  <tbody>\n",
       "  </tbody>\n",
       "</table>\n",
       "</div>"
      ],
      "text/plain": [
       "Empty DataFrame\n",
       "Columns: [compound, disease]\n",
       "Index: []"
      ]
     },
     "execution_count": 17,
     "metadata": {},
     "output_type": "execute_result"
    }
   ],
   "source": [
    "run_query(\n",
    "    \"\"\"\n",
    "    MATCH (c:Compound)-[:PREDICTED_TREATS]->(d:Disease)\n",
    "    RETURN c.name as compound, d.name as disease\n",
    "    \"\"\"\n",
    ")"
   ]
  },
  {
   "cell_type": "markdown",
   "id": "2483793b",
   "metadata": {},
   "source": [
    "# Explaining predictions\n",
    "\n",
    "To the best of my knowledge, knowledge graph embedding models have limited capacity to provide interpretable explanations for their predictions. However, the existing connections within the graph can be leveraged to present relevant information to domain experts, such as medical professionals, allowing them to evaluate the plausibility of the predicted relationships.\n",
    "\n",
    "For instance, direct and indirect paths between L-Asparagine and colon cancer can be explored using the following Cypher query, facilitating further investigation and expert validation.\n"
   ]
  },
  {
   "cell_type": "code",
   "execution_count": 18,
   "id": "6455bab4",
   "metadata": {},
   "outputs": [
    {
     "name": "stderr",
     "output_type": "stream",
     "text": [
      "WARNING:neo4j.notifications:Received notification from DBMS server: {severity: WARNING} {code: Neo.ClientNotification.Statement.FeatureDeprecationWarning} {category: } {title: This feature is deprecated and will be removed in future versions.} {description: Binding relationships to a list in a variable length pattern is deprecated. (Binding a variable length relationship pattern to a variable ('r') is deprecated and will be unsupported in a future version. The recommended way is to bind the whole path to a variable, then extract the relationships:\n",
      "\tMATCH p = (...)-[...]-(...)\n",
      "\tWITH *, relationships(p) AS r)} {position: line: 4, column: 33, offset: 126} for query: '\\n    MATCH (c:Compound {name: \"L-Asparagine\"}),(d:Disease {name:\"colon cancer\"})\\n    WITH c,d\\n    MATCH p=AllShortestPaths((c)-[r:binds|regulates|interacts|upregulates|downregulates|associates*1..4]-(d))\\n    RETURN [n in nodes(p) | n.name] LIMIT 25\\n    '\n",
      "WARNING:neo4j.notifications:Received notification from DBMS server: {severity: WARNING} {code: Neo.ClientNotification.Statement.CartesianProductWarning} {category: } {title: This query builds a cartesian product between disconnected patterns.} {description: If a part of a query contains multiple disconnected patterns, this will build a cartesian product between all those parts. This may produce a large amount of data and slow down query processing. While occasionally intended, it may often be possible to reformulate the query that avoids the use of this cross product, perhaps by adding a relationship between the different parts or by using OPTIONAL MATCH (identifier is: (d))} {position: line: 2, column: 1, offset: 5} for query: '\\n    MATCH (c:Compound {name: \"L-Asparagine\"}),(d:Disease {name:\"colon cancer\"})\\n    WITH c,d\\n    MATCH p=AllShortestPaths((c)-[r:binds|regulates|interacts|upregulates|downregulates|associates*1..4]-(d))\\n    RETURN [n in nodes(p) | n.name] LIMIT 25\\n    '\n"
     ]
    },
    {
     "data": {
      "text/html": [
       "<div>\n",
       "<style scoped>\n",
       "    .dataframe tbody tr th:only-of-type {\n",
       "        vertical-align: middle;\n",
       "    }\n",
       "\n",
       "    .dataframe tbody tr th {\n",
       "        vertical-align: top;\n",
       "    }\n",
       "\n",
       "    .dataframe thead th {\n",
       "        text-align: right;\n",
       "    }\n",
       "</style>\n",
       "<table border=\"1\" class=\"dataframe\">\n",
       "  <thead>\n",
       "    <tr style=\"text-align: right;\">\n",
       "      <th></th>\n",
       "      <th>[n in nodes(p) | n.name]</th>\n",
       "    </tr>\n",
       "  </thead>\n",
       "  <tbody>\n",
       "    <tr>\n",
       "      <th>0</th>\n",
       "      <td>[L-Asparagine, ASRGL1, SSBP2, colon cancer]</td>\n",
       "    </tr>\n",
       "    <tr>\n",
       "      <th>1</th>\n",
       "      <td>[L-Asparagine, SLC38A3, PLXNA1, colon cancer]</td>\n",
       "    </tr>\n",
       "    <tr>\n",
       "      <th>2</th>\n",
       "      <td>[L-Asparagine, ASRGL1, NME1, colon cancer]</td>\n",
       "    </tr>\n",
       "    <tr>\n",
       "      <th>3</th>\n",
       "      <td>[L-Asparagine, SLC1A5, VEGFA, colon cancer]</td>\n",
       "    </tr>\n",
       "    <tr>\n",
       "      <th>4</th>\n",
       "      <td>[L-Asparagine, ASRGL1, GDF15, colon cancer]</td>\n",
       "    </tr>\n",
       "    <tr>\n",
       "      <th>5</th>\n",
       "      <td>[L-Asparagine, SLC1A5, FZD5, colon cancer]</td>\n",
       "    </tr>\n",
       "    <tr>\n",
       "      <th>6</th>\n",
       "      <td>[L-Asparagine, ASNS, CCNB1, colon cancer]</td>\n",
       "    </tr>\n",
       "    <tr>\n",
       "      <th>7</th>\n",
       "      <td>[L-Asparagine, ASNS, HSF1, colon cancer]</td>\n",
       "    </tr>\n",
       "    <tr>\n",
       "      <th>8</th>\n",
       "      <td>[L-Asparagine, SLC38A3, VEGFA, colon cancer]</td>\n",
       "    </tr>\n",
       "    <tr>\n",
       "      <th>9</th>\n",
       "      <td>[L-Asparagine, SLC1A5, OXCT1, colon cancer]</td>\n",
       "    </tr>\n",
       "    <tr>\n",
       "      <th>10</th>\n",
       "      <td>[L-Asparagine, ASRGL1, AKR7A2, colon cancer]</td>\n",
       "    </tr>\n",
       "    <tr>\n",
       "      <th>11</th>\n",
       "      <td>[L-Asparagine, ASRGL1, CDK7, colon cancer]</td>\n",
       "    </tr>\n",
       "    <tr>\n",
       "      <th>12</th>\n",
       "      <td>[L-Asparagine, SLC38A3, RBM28, colon cancer]</td>\n",
       "    </tr>\n",
       "    <tr>\n",
       "      <th>13</th>\n",
       "      <td>[L-Asparagine, ASNS, CEBPB, colon cancer]</td>\n",
       "    </tr>\n",
       "    <tr>\n",
       "      <th>14</th>\n",
       "      <td>[L-Asparagine, SLC1A5, GNAI1, colon cancer]</td>\n",
       "    </tr>\n",
       "    <tr>\n",
       "      <th>15</th>\n",
       "      <td>[L-Asparagine, ASNS, G3BP1, colon cancer]</td>\n",
       "    </tr>\n",
       "    <tr>\n",
       "      <th>16</th>\n",
       "      <td>[L-Asparagine, SLC1A5, APC, colon cancer]</td>\n",
       "    </tr>\n",
       "    <tr>\n",
       "      <th>17</th>\n",
       "      <td>[L-Asparagine, SLC1A5, RUVBL1, colon cancer]</td>\n",
       "    </tr>\n",
       "    <tr>\n",
       "      <th>18</th>\n",
       "      <td>[L-Asparagine, SLC1A5, SRC, colon cancer]</td>\n",
       "    </tr>\n",
       "    <tr>\n",
       "      <th>19</th>\n",
       "      <td>[L-Asparagine, ASRGL1, PSMG1, colon cancer]</td>\n",
       "    </tr>\n",
       "    <tr>\n",
       "      <th>20</th>\n",
       "      <td>[L-Asparagine, SLC1A5, G3BP1, colon cancer]</td>\n",
       "    </tr>\n",
       "    <tr>\n",
       "      <th>21</th>\n",
       "      <td>[L-Asparagine, ASRGL1, HSD17B10, colon cancer]</td>\n",
       "    </tr>\n",
       "    <tr>\n",
       "      <th>22</th>\n",
       "      <td>[L-Asparagine, NARS, TP53, colon cancer]</td>\n",
       "    </tr>\n",
       "    <tr>\n",
       "      <th>23</th>\n",
       "      <td>[L-Asparagine, SLC38A3, EZH2, colon cancer]</td>\n",
       "    </tr>\n",
       "    <tr>\n",
       "      <th>24</th>\n",
       "      <td>[L-Asparagine, ASNS, BRAF, colon cancer]</td>\n",
       "    </tr>\n",
       "  </tbody>\n",
       "</table>\n",
       "</div>"
      ],
      "text/plain": [
       "                          [n in nodes(p) | n.name]\n",
       "0      [L-Asparagine, ASRGL1, SSBP2, colon cancer]\n",
       "1    [L-Asparagine, SLC38A3, PLXNA1, colon cancer]\n",
       "2       [L-Asparagine, ASRGL1, NME1, colon cancer]\n",
       "3      [L-Asparagine, SLC1A5, VEGFA, colon cancer]\n",
       "4      [L-Asparagine, ASRGL1, GDF15, colon cancer]\n",
       "5       [L-Asparagine, SLC1A5, FZD5, colon cancer]\n",
       "6        [L-Asparagine, ASNS, CCNB1, colon cancer]\n",
       "7         [L-Asparagine, ASNS, HSF1, colon cancer]\n",
       "8     [L-Asparagine, SLC38A3, VEGFA, colon cancer]\n",
       "9      [L-Asparagine, SLC1A5, OXCT1, colon cancer]\n",
       "10    [L-Asparagine, ASRGL1, AKR7A2, colon cancer]\n",
       "11      [L-Asparagine, ASRGL1, CDK7, colon cancer]\n",
       "12    [L-Asparagine, SLC38A3, RBM28, colon cancer]\n",
       "13       [L-Asparagine, ASNS, CEBPB, colon cancer]\n",
       "14     [L-Asparagine, SLC1A5, GNAI1, colon cancer]\n",
       "15       [L-Asparagine, ASNS, G3BP1, colon cancer]\n",
       "16       [L-Asparagine, SLC1A5, APC, colon cancer]\n",
       "17    [L-Asparagine, SLC1A5, RUVBL1, colon cancer]\n",
       "18       [L-Asparagine, SLC1A5, SRC, colon cancer]\n",
       "19     [L-Asparagine, ASRGL1, PSMG1, colon cancer]\n",
       "20     [L-Asparagine, SLC1A5, G3BP1, colon cancer]\n",
       "21  [L-Asparagine, ASRGL1, HSD17B10, colon cancer]\n",
       "22        [L-Asparagine, NARS, TP53, colon cancer]\n",
       "23     [L-Asparagine, SLC38A3, EZH2, colon cancer]\n",
       "24        [L-Asparagine, ASNS, BRAF, colon cancer]"
      ]
     },
     "execution_count": 18,
     "metadata": {},
     "output_type": "execute_result"
    }
   ],
   "source": [
    "run_query(\n",
    "    \"\"\"\n",
    "    MATCH (c:Compound {name: \"L-Asparagine\"}),(d:Disease {name:\"colon cancer\"})\n",
    "    WITH c,d\n",
    "    MATCH p=AllShortestPaths((c)-[r:binds|regulates|interacts|upregulates|downregulates|associates*1..4]-(d))\n",
    "    RETURN [n in nodes(p) | n.name] LIMIT 25\n",
    "    \"\"\"\n",
    ")"
   ]
  }
 ],
 "metadata": {
  "kernelspec": {
   "display_name": "Python 3",
   "language": "python",
   "name": "python3"
  },
  "language_info": {
   "codemirror_mode": {
    "name": "ipython",
    "version": 3
   },
   "file_extension": ".py",
   "mimetype": "text/x-python",
   "name": "python",
   "nbconvert_exporter": "python",
   "pygments_lexer": "ipython3",
   "version": "3.11.10"
  }
 },
 "nbformat": 4,
 "nbformat_minor": 5
}
